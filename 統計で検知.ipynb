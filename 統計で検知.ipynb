{
  "nbformat": 4,
  "nbformat_minor": 0,
  "metadata": {
    "colab": {
      "provenance": [],
      "authorship_tag": "ABX9TyMEdXvysq5MRZvkZaL4rV4p",
      "include_colab_link": true
    },
    "kernelspec": {
      "name": "python3",
      "display_name": "Python 3"
    },
    "language_info": {
      "name": "python"
    }
  },
  "cells": [
    {
      "cell_type": "markdown",
      "metadata": {
        "id": "view-in-github",
        "colab_type": "text"
      },
      "source": [
        "<a href=\"https://colab.research.google.com/github/kodenshacho/ColaboratoryNotes/blob/main/%E7%B5%B1%E8%A8%88%E3%81%A7%E6%A4%9C%E7%9F%A5.ipynb\" target=\"_parent\"><img src=\"https://colab.research.google.com/assets/colab-badge.svg\" alt=\"Open In Colab\"/></a>"
      ]
    },
    {
      "cell_type": "markdown",
      "source": [
        "\n",
        "X線の強度データを使って元素を検出するには、様々な手法があります。 ここでは、教師あり学習を使った手法を紹介します。\n",
        "\n",
        "教師あり学習では、あらかじめ正解データを与えて、それを使ってモデルを訓練します。 具体的には、次のような手順で行うことができます。\n",
        "\n",
        "データを収集する: X線の強度データと、それがどの元素に対応するかを知るための正解データを収集します。\n",
        "\n",
        "データを前処理する: 収集したデータを加工し、モデルに入力できるように整形します。"
      ],
      "metadata": {
        "id": "UecLsm0AWSYW"
      }
    },
    {
      "cell_type": "code",
      "source": [],
      "metadata": {
        "id": "n9mELU4uTWKh"
      },
      "execution_count": null,
      "outputs": []
    },
    {
      "cell_type": "code",
      "source": [
        "\n",
        "#include <iostream>\n",
        "#include <vector>\n",
        "\n",
        "#include \"PolyMesh/pmp/algorithms/hole_filling.h\"\n",
        "#include \"PolyMesh/pmp/algorithms/self_intersection.h\"\n",
        "\n",
        "int main()\n",
        "{\n",
        "    // Load the mesh from a file\n",
        "    PolyMesh mesh;\n",
        "    if (!OpenMesh::IO::read_mesh(mesh, \"input.obj\"))\n",
        "    {\n",
        "        std::cerr << \"Error loading mesh from file!\" << std::endl;\n",
        "        return 1;\n",
        "    }\n",
        "\n",
        "    // Ensure that the mesh is a manifold\n",
        "    pmp::is_manifold(mesh);\n",
        "\n",
        "    // Delete self-intersection vertices\n",
        "    pmp::delete_intersection_vertices(mesh);\n",
        "\n",
        "    // Find the holes in the mesh\n",
        "    std::vector<PolyMesh::FaceHandle> holes;\n",
        "    pmp::hole_filling(mesh, std::back_inserter(holes));\n",
        "\n",
        "    // Print the number of holes found\n",
        "    std::cout << \"Number of holes: \" << holes.size() << std::endl;\n",
        "\n",
        "    // Fill the holes\n",
        "    pmp::fill_holes(mesh, holes.begin(), holes.end());\n",
        "\n",
        "    // Save the resulting mesh to a file\n",
        "    if (!OpenMesh::IO::write_mesh(mesh, \"output.obj\"))\n",
        "    {\n",
        "        std::cerr << \"Error saving mesh to file!\" << std::endl;\n",
        "        return 1;\n",
        "    }\n",
        "\n",
        "    return 0;\n",
        "}"
      ],
      "metadata": {
        "id": "8oR-AugXwC1t"
      },
      "execution_count": null,
      "outputs": []
    },
    {
      "cell_type": "code",
      "source": [],
      "metadata": {
        "id": "VFMsr165TXz3"
      },
      "execution_count": null,
      "outputs": []
    },
    {
      "cell_type": "markdown",
      "source": [
        "モデルを選択する: どのような機械学習モデルを使うかを選択します。 例えば、X線強度データを分類する場合は、サポートベクターマシン (SVM) やランダムフォレストなどが使えます。\n",
        "\n",
        "モデルを訓練する: 前処理したデータを使って、選択したモデルを訓練します。\n",
        "\n",
        "モデルを評価する: 訓練したモデルが、未知のデータに対してどの程度正確に予測できるかを評価します。"
      ],
      "metadata": {
        "id": "Vksqo083Wazc"
      }
    },
    {
      "cell_type": "markdown",
      "source": [
        "\n",
        "このコードでは、X線の強度データをスケーリングしてから、訓練データとテストデータに分割します。 次に、サポートベクターマシンを使ってモデルを訓練し、テストデータでモデルの精度を評価しています。\n",
        "\n",
        "\n",
        "以上が、X線の強度データを使って元素を検出する方法の一例です。 実際には、複数のモデルを試してみたり、ハイパーパラメータを調整したりすることで、より高い精度を得ることができるでしょう。"
      ],
      "metadata": {
        "id": "D5LWN-vFW6Yk"
      }
    },
    {
      "cell_type": "code",
      "source": [
        "\n",
        "# 必要なライブラリをインポートする\n",
        "import numpy as np\n",
        "from sklearn.preprocessing import StandardScaler\n",
        "from sklearn.model_selection import train_test_split\n",
        "from sklearn.svm import SVC\n",
        "\n",
        "# X線の強度データと正解データを収集する\n",
        "X = # X線の強度データを表すnumpy array\n",
        "y = # 各データがどの元素に対応するかを表すnumpy array\n",
        "\n",
        "# データを前処理する\n",
        "scaler = StandardScaler()\n",
        "X_scaled = scaler.fit_transform(X)\n",
        "\n",
        "# データを訓練データとテストデータに分割する\n",
        "X_train, X_test, y_train, y_test = train_test_split(X_scaled, y, test_size=0.2)\n",
        "\n",
        "# サポートベクターマシンを使ってモデルを訓練する\n",
        "model = SVC()\n",
        "model.fit(X_train, y_train)\n",
        "\n",
        "# モデルを評価する\n",
        "accuracy = model.score(X_test, y_test)\n",
        "print(f\"Accuracy: {accuracy:.2f}\")"
      ],
      "metadata": {
        "id": "lKoK6eGwW91R"
      },
      "execution_count": null,
      "outputs": []
    },
    {
      "cell_type": "markdown",
      "source": [
        "\n",
        "SVCでは、SVMの手法を用いて、複数のクラスに分類する問題を解くことができます。 具体的には、SVCは、以下のような手順で処理を行います。\n",
        "\n",
        "トレーニングセットを受け取る: SVCは、訓練データと正解ラベルを受け取ります。\n",
        "\n",
        "訓練データは、各データを表す特徴量の組を表すnumpy arrayで、正解ラベルは、それぞれのデータがどのクラスに属するかを表すnumpy arrayです。\n",
        "\n",
        "\n",
        "最適な分離平面を求める: SVCは、訓練データを二次元平面上にプロットし、それらを最もよく分離する直線を求めます。\n",
        "\n",
        "分類器を作成する: SVCは、得られた分離平面を使って、新しいデータを分類するための分類器を作成します。\n",
        "\n",
        "分類器を使って予測する: SVCが作成した分類器を使って、新しいデータを分類することができます。\n",
        "\n",
        "SVCは、汎化性能が高く、様々な分類問題に適用できるため、非常によく使われる手法です。 しかし、データが大規模であると、計算時間が非常に長くなることがあるため、注意が必要です。"
      ],
      "metadata": {
        "id": "IB-8WkMMXzPb"
      }
    },
    {
      "cell_type": "code",
      "source": [
        "\n",
        "import numpy as np\n",
        "\n",
        "# Generate fake data with three peaks\n",
        "np.random.seed(0)\n",
        "data = np.concatenate([\n",
        "    np.random.normal(0, 0.5, size=50),\n",
        "    np.random.normal(5, 1, size=50),\n",
        "    np.random.normal(10, 0.5, size=50)\n",
        "])\n",
        "print(data)\n",
        "# Save the fake data to a text file\n",
        "np.savetxt('spectroscopy_data.txt', data, fmt='%.3f')"
      ],
      "metadata": {
        "colab": {
          "base_uri": "https://localhost:8080/"
        },
        "id": "rgThGgOJrWD0",
        "outputId": "b6a8ff05-d25e-4765-ed61-8cffb9306a85"
      },
      "execution_count": null,
      "outputs": [
        {
          "output_type": "stream",
          "name": "stdout",
          "text": [
            "[ 0.88202617  0.2000786   0.48936899  1.1204466   0.933779   -0.48863894\n",
            "  0.47504421 -0.0756786  -0.05160943  0.20529925  0.07202179  0.72713675\n",
            "  0.38051886  0.06083751  0.22193162  0.16683716  0.74703954 -0.10257913\n",
            "  0.15653385 -0.42704787 -1.27649491  0.3268093   0.4322181  -0.37108251\n",
            "  1.13487731 -0.72718284  0.02287926 -0.09359193  0.76638961  0.73467938\n",
            "  0.07747371  0.18908126 -0.44389287 -0.99039823 -0.17395607  0.07817448\n",
            "  0.61514534  0.60118992 -0.19366341 -0.15115138 -0.52427648 -0.71000897\n",
            " -0.8531351   0.9753877  -0.25482609 -0.21903715 -0.62639768  0.38874518\n",
            " -0.80694892 -0.10637014  4.10453344  5.3869025   4.48919486  3.81936782\n",
            "  4.97181777  5.42833187  5.06651722  5.3024719   4.36567791  4.63725883\n",
            "  4.32753955  4.64044684  4.18685372  3.2737174   5.17742614  4.59821906\n",
            "  3.36980165  5.46278226  4.09270164  5.0519454   5.72909056  5.12898291\n",
            "  6.13940068  3.76517418  5.40234164  4.31518991  4.12920285  4.42115034\n",
            "  4.68844747  5.05616534  3.83485016  5.90082649  5.46566244  3.46375631\n",
            "  6.48825219  6.89588918  6.17877957  4.82007516  3.92924738  6.05445173\n",
            "  4.59682305  6.22244507  5.20827498  5.97663904  5.3563664   5.70657317\n",
            "  5.01050002  6.78587049  5.12691209  5.40198936 10.94157535  9.32612047\n",
            "  9.3647575  10.48469835  9.4134383  10.97181059  9.79319051  9.62627259\n",
            " 10.96147101 10.7402574  10.93377948 10.45302233  9.56938716 10.95503248\n",
            "  9.86599831 10.4012282  10.47362598  9.92249495 10.30703969 10.46110334\n",
            " 10.18821277  9.4502996  10.14911909 10.66319295  9.65271607  9.92518273\n",
            "  9.78242322 10.92463186 10.33614738 10.20373092  9.61504196 10.2696246\n",
            "  9.66283367 10.01591528  9.68207696 10.33821665 10.28829541  9.89585062\n",
            " 10.19800336  9.45346925  9.2543712  10.21969585 10.08333675 10.31751572\n",
            " 11.19157239 10.47223974  9.54358889 10.55850814  9.34204629  9.7692077 ]\n"
          ]
        }
      ]
    },
    {
      "cell_type": "markdown",
      "source": [
        "このコードでは、peaks、widths、heights の 3 つの配列を使用して、5 つのピークを生成しています。その後、NumPy の linspace 関数を使用して、0 から 30 までの範囲を 300 分割した x 配列を生成します。最後に、x 配列を使用して、y 配列を計算し、データを返します"
      ],
      "metadata": {
        "id": "4sObPbxss3ou"
      }
    },
    {
      "cell_type": "code",
      "source": [
        "\n",
        "import numpy as np\n",
        "\n",
        "def get_data():\n",
        "    # ピーク位置を生成する\n",
        "    peaks = np.array([5, 10, 15, 20, 25])\n",
        "\n",
        "    # ピーク幅を生成する\n",
        "    widths = np.array([1, 2, 1, 2, 1])\n",
        "\n",
        "    # ピーク強度を生成する\n",
        "    heights = np.array([10, 15, 10, 15, 10])\n",
        "\n",
        "    # ピークを使用してデータを生成する\n",
        "    x = np.linspace(0, 30, 300)\n",
        "    y = np.zeros_like(x)\n",
        "    for peak, width, height in zip(peaks, widths, heights):\n",
        "        y += height * np.exp(-((x - peak) / width) ** 2)\n",
        "\n",
        "    # データを返す\n",
        "    return x, y"
      ],
      "metadata": {
        "id": "e93KP-Rys8zu"
      },
      "execution_count": null,
      "outputs": []
    },
    {
      "cell_type": "markdown",
      "source": [
        "このコードでは、sklearn モジュールの GaussianMixture クラスを使用して、エネルギー値と対応する強度データから 5 つのコンポーネントを持つガウス混合モデルを構築します。その後、fit メソッドを使用してモデルを訓練し、means_ プロパティからピークを推定します。最後に、matplotlib モジュールを使用して、エネルギー値と強度データをプロットし、推定されたピークを \"x\" マークでプロットします。"
      ],
      "metadata": {
        "id": "CYIIJw_usROY"
      }
    },
    {
      "cell_type": "code",
      "source": [
        "\n",
        "import numpy as np\n",
        "\n",
        "def get_data():\n",
        "    # ピーク位置を生成する\n",
        "    peaks = np.array([5, 10, 15, 20, 25])\n",
        "\n",
        "    # ピーク幅を生成する\n",
        "    widths = np.array([1, 2, 1, 2, 1])\n",
        "\n",
        "    # ピーク強度を生成する\n",
        "    heights = np.array([10, 15, 10, 15, 10])\n",
        "\n",
        "    # ピークを使用してデータを生成する\n",
        "    x = np.linspace(0, 30, 300)\n",
        "    y = np.zeros_like(x)\n",
        "    for peak, width, height in zip(peaks, widths, heights):\n",
        "        y += height * np.exp(-((x - peak) / width) ** 2)\n",
        "\n",
        "    # データを2次元の配列に変換する\n",
        "    data = np.array([x, y]).T\n",
        "\n",
        "    # データを返す\n",
        "    return data"
      ],
      "metadata": {
        "id": "f9KN5lizupee"
      },
      "execution_count": null,
      "outputs": []
    },
    {
      "cell_type": "code",
      "source": [
        "\n",
        "import matplotlib.pyplot as plt\n",
        "from sklearn.mixture import GaussianMixture\n",
        "\n",
        "# エネルギー値を x、強度データを y とする\n",
        "x = [0.1, 0.2, 0.3, 0.4, 0.5, 0.6, 0.7, 0.8, 0.9, 1.0]\n",
        "y = [1.1, 1.5, 2.0, 2.5, 3.0, 3.5, 4.0, 4.5, 5.0, 5.5]\n",
        "\n",
        "# 5 つのコンポーネントを持つガウス混合モデルを構築する\n",
        "model = GaussianMixture(n_components=5)\n",
        "\n",
        "# モデルを訓練する\n",
        "model.fit(np.c_[x, y])\n",
        "\n",
        "\n",
        "# エネルギー値と強度データをプロットする\n",
        "plt.plot(x, y, 'bo')\n",
        "means = model.means_\n",
        "x_means = means[:, 0]\n",
        "y_means = means[:, 1]\n",
        "\n",
        "# 推定されたピークを \"x\" マークでプロットする\n",
        "plt.plot(x_means, 'x', color='red')\n",
        "#plt.plot(y_means, 'o', color='blue')\n",
        "\n",
        "plt.show()"
      ],
      "metadata": {
        "colab": {
          "base_uri": "https://localhost:8080/",
          "height": 238
        },
        "id": "RKcaudMmL-II",
        "outputId": "2b879b51-db99-4af0-a1ea-252913655fe3"
      },
      "execution_count": null,
      "outputs": [
        {
          "output_type": "display_data",
          "data": {
            "text/plain": [
              "<Figure size 432x288 with 1 Axes>"
            ],
            "image/png": "[encoded data removed]"
          },
          "metadata": {
            "needs_background": "light"
          }
        }
      ]
    },
    {
      "cell_type": "code",
      "source": [
        "\n",
        "# Import necessary libraries\n",
        "import numpy as np\n",
        "import matplotlib.pyplot as plt\n",
        "\n",
        "# Generate sample XRD data\n",
        "x = np.linspace(0, 10, 100)\n",
        "y = np.sin(x) + 0.1 * np.random.randn(100)\n",
        "\n",
        "# Create a baseline by fitting a polynomial curve to the data\n",
        "coefficients = np.polyfit(x, y, deg=3)\n",
        "polynomial = np.poly1d(coefficients)\n",
        "baseline = polynomial(x)\n",
        "\n",
        "# Plot the original data and the baseline\n",
        "plt.plot(x, y, label='Original data')\n",
        "plt.plot(x, baseline, label='Baseline')\n",
        "plt.legend()\n",
        "plt.show()"
      ],
      "metadata": {
        "colab": {
          "base_uri": "https://localhost:8080/",
          "height": 228
        },
        "id": "t4wcSAdULSzE",
        "outputId": "d572c179-c98f-4046-f763-68102ba133bb"
      },
      "execution_count": null,
      "outputs": [
        {
          "output_type": "display_data",
          "data": {
            "text/plain": [
              "<Figure size 432x288 with 1 Axes>"
            ],
            "image/png": "[encoded data removed]"
          },
          "metadata": {
            "needs_background": "light"
          }
        }
      ]
    },
    {
      "cell_type": "markdown",
      "source": [],
      "metadata": {
        "id": "R-AXM7XXUDi3"
      }
    },
    {
      "cell_type": "code",
      "source": [
        "\n",
        "# Import necessary libraries\n",
        "import numpy as np\n",
        "import matplotlib.pyplot as plt\n",
        "\n",
        "# Load SEM-EDS data from a file\n",
        "data = np.loadtxt('sem-eds-data.txt')\n",
        "\n",
        "# Extract the energy and intensity values from the data\n",
        "energy = data[:, 0]\n",
        "intensity = data[:, 1]\n",
        "\n",
        "# Create a baseline by fitting a polynomial curve to the data\n",
        "coefficients = np.polyfit(energy, intensity, deg=3)\n",
        "polynomial = np.poly1d(coefficients)\n",
        "baseline = polynomial(energy)\n",
        "\n",
        "# Plot the original data and the baseline\n",
        "plt.plot(energy, intensi"
      ],
      "metadata": {
        "id": "013H9H9aTaXo"
      },
      "execution_count": null,
      "outputs": []
    },
    {
      "cell_type": "markdown",
      "source": [
        "KNN で eds ピークフィット値の元素を探す方法を実装するには、以下のような手順を踏むことができます。\n",
        "\n",
        "元素の化学式と eds ピークフィット値のデータを収集します。\n",
        "\n",
        "元素の化学式を特徴量として、eds ピークフィット値をラベルとするサンプルデータを作成します。\n",
        "\n",
        "KNN アルゴリズムを使用して、サンプルデータを学習させます。\n",
        "\n",
        "探したい元素の化学式を入力し、KNN モデルを使用して eds ピークフィット値を予測します。"
      ],
      "metadata": {
        "id": "TbQLXihlUHZI"
      }
    },
    {
      "cell_type": "code",
      "source": [
        "\n",
        "# KNN アルゴリズムを使用して eds ピークフィット値を探すサンプルコード\n",
        "#에러남\n",
        "# ライブラリのインポート\n",
        "from sklearn.neighbors import KNeighborsClassifier\n",
        "\n",
        "# 元素の化学式と eds ピークフィット値のデータを収集する\n",
        "# 以下は、サンプルデータです\n",
        "X = [['Cu', 'Zn', 'Fe'], ['O', 'S', 'N'], ['H', 'C', 'O']]\n",
        "y = [1550, 2300, 3500]\n",
        "\n",
        "# KNN アルゴリズムを使用して学習する\n",
        "knn = KNeighborsClassifier()\n",
        "knn.fit(X, y)\n",
        "\n",
        "# 探したい元素の化学式を入力し、eds ピークフィット値を予測する\n",
        "element = 'Cu'\n",
        "prediction = knn.predict([[element]]) \n",
        "print(f'{element} の EDS ピークフィット値は {prediction[0]} です')"
      ],
      "metadata": {
        "id": "JSz20126TcGd"
      },
      "execution_count": null,
      "outputs": []
    },
    {
      "cell_type": "code",
      "source": [],
      "metadata": {
        "id": "ylzYNzb7W4QE"
      },
      "execution_count": null,
      "outputs": []
    },
    {
      "cell_type": "markdown",
      "source": [
        "https://watlab-blog.com/2020/09/26/fft-find-peaks/"
      ],
      "metadata": {
        "id": "A4ddOp4kW1CE"
      }
    },
    {
      "cell_type": "markdown",
      "source": [
        "エネルギー分散分光分析（EDS）は、物質中の元素の組成を決定するために使用される分析手法です。これは、電子線を物質に照射し、放射されるエネルギースペクトルを測定することによって行われます。このエネルギースペクトルには、異なるエネルギー値を持つピークが含まれます。これらのピークは、物質中の各元素が放射するエネルギーを示すものであり、そのエネルギー値は、その元素の特性を示すものです。"
      ],
      "metadata": {
        "id": "8NYNWibeXoTd"
      }
    },
    {
      "cell_type": "markdown",
      "source": [
        "Deep learningを使用することで、EDSスペクトルの複数のピークや重なるピークを分析し、物質中の元素を検出することができます。このような分析には、以下のような手順が必要です。"
      ],
      "metadata": {
        "id": "4FkwFDRUXqL-"
      }
    },
    {
      "cell_type": "markdown",
      "source": [
        "\n",
        "１．データを収集する: EDSスペクトルを収集するためのデータセットを準備します。このデータセットは、各元素を含むスペクトルと、そのスペクトルに含まれる元素の組成を示すラベルデータとで構成されます。\n",
        "\n",
        "\n",
        "２．データを前処理する: 収集したデータを前処理します。これには、不要なデータを除去したり、データを正規化するなどの処理が含まれます。\n",
        "\n",
        "\n",
        "３．モデルを構築する: データを使用して、Deep learningモデルを構築します。このモデルは、EDSスペクトルのピークを分析し、そのスペクトルに含まれる元素を推定することができるようになります。"
      ],
      "metadata": {
        "id": "IDBIntOBXtpm"
      }
    },
    {
      "cell_type": "markdown",
      "source": [
        "\n",
        "４．モデルを評価する: モデルを評価し、その性能を測定します。これには、モデルが予測した元素の組成を実際の元素の組成と比較することができます。また、複数のピークや重なるピークを含むEDSスペクトルを分析するために、モデルが正確に予測できるかどうかを測定することもできます。\n",
        "\n",
        "５．モデルを最適化する: モデルの評価の結果をもとに、モデルを最適化することができます。これには、モデルのアーキテクチャを変更したり、学習率やバッチサイズを調整したりすることができます。"
      ],
      "metadata": {
        "id": "r1An-R02YEvT"
      }
    },
    {
      "cell_type": "markdown",
      "source": [
        "Pythonを使用したEDSスペクトルの複数のピークや重なるピークを分析するためのサンプルコードです。"
      ],
      "metadata": {
        "id": "xKs5Is0qYNOU"
      }
    },
    {
      "cell_type": "code",
      "source": [
        "\n",
        "import numpy as np\n",
        "import pandas as pd\n",
        "from sklearn.model_selection import train_test_split\n",
        "from tensorflow.keras.layers import Dense, Input\n",
        "from tensorflow.keras.models import Model\n",
        "\n",
        "# データを読み込み、前処理を行う\n",
        "data = pd.read_csv('eds_data.csv')\n",
        "x = data.iloc[:, :-1]\n",
        "y = data.iloc[:, -1]\n",
        "x_train, x_test, y_train, y_test = train_test_split(x, y, test_size=0.2)\n",
        "\n",
        "# Deep learningモデルを構築する\n",
        "inputs = Input(shape=(x_train.shape[1],))\n",
        "hidden1 = Dense(128, activation='relu')(inputs)\n",
        "hidden2 = Dense(64, activation='relu')(hidden1)\n",
        "outputs = Dense(y_train.shape[1], activation='softmax')(hidden2)\n",
        "model = Model(inputs=inputs, outputs=outputs)\n",
        "\n",
        "# モデルをコンパイルし、学習を開始する\n",
        "model.compile(optimizer='adam', loss='categorical_crossentropy', metrics=['accuracy'])\n",
        "model.fit(x_train, y_train, epochs=10, batch_size=32, validation_data=(x_test, y_test))\n",
        "\n",
        "# モデルを評価する\n",
        "test_loss, test_acc = model.evaluate(x_test, y_test)\n",
        "print('Test loss:', test_loss)\n",
        "print('Test accuracy:', test_acc)\n",
        "#予測を行う\n",
        "predictions = model.predict(x_test)\n",
        "#予測結果を表示する\n",
        "for i in range(len(predictions)):\n",
        "print('Prediction:', np.argmax(predictions[i]), 'Actual:', np.argmax(y_test.iloc[i]))"
      ],
      "metadata": {
        "id": "BC3zjxkTYRkd"
      },
      "execution_count": null,
      "outputs": []
    },
    {
      "cell_type": "markdown",
      "source": [
        "\n",
        "上記のコードでは、EDSスペクトルのデータを読み込んで前処理を行い、Deep learningモデルを構築しています。次に、モデルをコンパイルし、学習を開始します。学習が終了したら、モデルを評価し、テストデータでの性能を確認します。最後に、予測を行い、予測結果を表示しています。\n",
        "\n",
        "これで、EDSスペクトルの複数のピークや重なるピークを分析するためのDeep learningの方法と、Pythonを使用したサンプルコードを紹介しました。希望するようにカスタマイズすることで、さまざまなアプリケーションで使用することができるでしょう。"
      ],
      "metadata": {
        "id": "fcSeK0dDYu4Y"
      }
    },
    {
      "cell_type": "code",
      "source": [
        "\n",
        "import numpy as np\n",
        "\n",
        "# Define the range of x values\n",
        "x_min = 0\n",
        "x_max = 10\n",
        "num_points = 1000\n",
        "x = np.linspace(x_min, x_max, num_points)\n",
        "\n",
        "# Define the peak positions, widths, and amplitudes\n",
        "mu1 = 2\n",
        "sigma1 = 0.5\n",
        "A1 = 2\n",
        "mu2 = 4\n",
        "sigma2 = 0.7\n",
        "A2 = 3\n",
        "mu3 = 6\n",
        "sigma3 = 0.3\n",
        "A3 = 4\n",
        "\n",
        "# Generate the synthetic data\n",
        "y = A1*np.exp(-(x-mu1)**2/(2*sigma1**2)) + A2*np.exp(-(x-mu2)**2/(2*sigma2**2)) + A3*np.exp(-(x-mu3)**2/(2*sigma3**2))\n",
        "\n",
        "# Add noise to the data\n",
        "y += np.random.normal(0, 0.1, num_points)\n",
        "\n",
        "# Save the data to a file\n",
        "np.savetxt(\"xrd.txt\", np.transpose([x, y]))"
      ],
      "metadata": {
        "id": "IsEHaUtae_db"
      },
      "execution_count": null,
      "outputs": []
    },
    {
      "cell_type": "code",
      "source": [
        "\n",
        "import numpy as np\n",
        "from scipy.optimize import minimize\n",
        "\n",
        "def gaussian(x, mu, sigma, A):\n",
        "    return A*np.exp(-(x-mu)**2/(2*sigma**2))\n",
        "\n",
        "def multi_gaussian(x, *params):\n",
        "    y = np.zeros_like(x)\n",
        "    for i in range(0, len(params), 3):\n",
        "        mu, sigma, A = params[i:i+3]\n",
        "        y += gaussian(x, mu, sigma, A)\n",
        "    return y\n",
        "\n",
        "def residuals(params, x, y):\n",
        "    return y - multi_gaussian(x, *params)\n",
        "\n",
        "# Load XRD data from a file\n",
        "x, y = np.loadtxt(\"xrd.txt\", unpack=True)\n",
        "num_peaks = 3\n",
        "# Initialize the peak positions, widths, and amplitudes\n",
        "params = []\n",
        "for i in range(num_peaks):\n",
        "    params += [x[i], 1, y[i]]\n",
        "\n",
        "# Fit the data using maximum likelihood\n",
        "result = minimize(residuals, params, args=(x, y))\n",
        "\n",
        "# Extract the optimized parameters\n",
        "optimized_params = result.x\n",
        "print(optimized_params)"
      ],
      "metadata": {
        "id": "zplhhkuQeS71"
      },
      "execution_count": null,
      "outputs": []
    },
    {
      "cell_type": "code",
      "source": [],
      "metadata": {
        "id": "U8MMvXfDkr81"
      },
      "execution_count": null,
      "outputs": []
    },
    {
      "cell_type": "code",
      "source": [
        "\n",
        "import matplotlib.pyplot as plt\n",
        "\n",
        "# Extract the optimized parameters\n",
        "optimized_params = result.x\n",
        "\n",
        "# Compute the fitted curve using the optimized parameters\n",
        "fitted_y = multi_gaussian(x, *optimized_params)\n",
        "\n",
        "# Plot the data and the fitted curve\n",
        "plt.plot(x, y, \"bo\", label=\"Data\")\n",
        "plt.plot(x, fitted_y, \"r-\", label=\"Fitted curve\")\n",
        "plt.legend(loc=\"upper right\")\n",
        "plt.xlabel(\"X\")\n",
        "plt.ylabel(\"Y\")\n",
        "plt.show()"
      ],
      "metadata": {
        "id": "KFEmDrqNepKB"
      },
      "execution_count": null,
      "outputs": []
    },
    {
      "cell_type": "code",
      "source": [
        "\n",
        "import numpy as np\n",
        "from scipy.optimize import curve_fit\n",
        "\n",
        "# データを生成するための関数\n",
        "def generate_data(x, peaks):\n",
        "    y = np.zeros(len(x))\n",
        "    for p in peaks:\n",
        "        y += p[0] * np.exp(-(x - p[1])**2 / (2 * p[2]**2))\n",
        "    return y\n",
        "\n",
        "# ガウス関数を定義する\n",
        "def gauss(x, a, x0, sigma):\n",
        "    return a * np.exp(-(x - x0)**2 / (2 * sigma**2))\n",
        "\n",
        "# データを生成する\n",
        "x = np.linspace(0, 10, 100)\n",
        "peaks = [(1, 3, 1), (2, 5, 1), (3, 7, 1)]\n",
        "y = generate_data(x, peaks)\n",
        "\n",
        "# フィッティングする\n",
        "popt, pcov = curve_fit(gauss, x, y, p0=[1, 1, 1])\n",
        "\n",
        "# フィッティング結果を出力する\n",
        "print(popt)"
      ],
      "metadata": {
        "colab": {
          "base_uri": "https://localhost:8080/"
        },
        "id": "moxX0n61kzkP",
        "outputId": "80d91537-28f6-4955-fccb-9b76934d27ed"
      },
      "execution_count": null,
      "outputs": [
        {
          "output_type": "stream",
          "name": "stdout",
          "text": [
            "[3.20398598 5.93425158 1.9042503 ]\n"
          ]
        }
      ]
    },
    {
      "cell_type": "markdown",
      "source": [
        "scipy.signal.argrelmax関数を使用\n",
        "\n",
        "xrdスペクトルから複数のピークをフィッティングする例ができました。比較するには、それぞれの方法でフィッティングした結果を比較することができます。\n",
        "ただし、これらの方法を比較するには、ある程度の精度が求められます。そのため、データを生成する際にピークの位置や幅などをより正確に設定し、より実用的なデータでフィッティングを行うことが望ましいです"
      ],
      "metadata": {
        "id": "HwwsPiiUk7T1"
      }
    },
    {
      "cell_type": "code",
      "source": [
        "\n",
        "import numpy as np\n",
        "from scipy.signal import argrelmax\n",
        "\n",
        "# データを生成するための関数\n",
        "def generate_data(x, peaks):\n",
        "    y = np.zeros(len(x))\n",
        "    for p in peaks:\n",
        "        y += p[0] * np.exp(-(x - p[1])**2 / (2 * p[2]**2))\n",
        "    return y\n",
        "\n",
        "# ガウス関数を定義する\n",
        "def gauss(x, a, x0, sigma):\n",
        "    return a * np.exp(-(x - x0)**2 / (2 * sigma**2))\n",
        "\n",
        "# データを生成する\n",
        "x = np.linspace(0, 10, 100)\n",
        "peaks = [(1, 3, 1), (2, 5, 1), (3, 7, 1)]\n",
        "y = generate_data(x, peaks)\n",
        "\n",
        "# ピーク位置を検出する\n",
        "peak_indices = argrelmax(y)[0]\n",
        "\n",
        "# ピーク位置でデータをフィッティングする\n",
        "for index in peak_indices:\n",
        "    x_peak = x[index]\n",
        "    y_peak = y[index]\n",
        "    popt, pcov = curve_fit(gauss, x_peak, y_peak, p0=[1, 1, 1])\n",
        "    \n",
        "    # フィッティング結果を出力する\n",
        "    print(popt)"
      ],
      "metadata": {
        "id": "cX_vhwAjk9Qy"
      },
      "execution_count": null,
      "outputs": []
    },
    {
      "cell_type": "code",
      "source": [
        "\n",
        "import numpy as np\n",
        "from scipy.optimize import curve_fit\n",
        "\n",
        "# データを生成するための関数\n",
        "def generate_data(x, peaks):\n",
        "    y = np.zeros(len(x))\n",
        "    for p in peaks:\n",
        "        y += p[0] * np.exp(-(x - p[1])**2 / (2 * p[2]**2))\n",
        "    return y\n",
        "\n",
        "# ガウス関数を定義する\n",
        "def gauss(x, a, x0, sigma):\n",
        "    return a * np.exp(-(x - x0)**2 / (2 * sigma**2))\n",
        "\n",
        "# データを生成する\n",
        "x = np.linspace(0, 10, 100)\n",
        "peaks = [(1, 3, 1), (2, 5, 1), (3, 7, 1)]\n",
        "y = generate_data(x, peaks)\n",
        "\n",
        "# フィッティングする\n",
        "popt, pcov = curve_fit(gauss, x, y, p0=[1, 1, 1])\n",
        "\n",
        "# フィッティング結果を出力する\n",
        "print(popt)"
      ],
      "metadata": {
        "colab": {
          "base_uri": "https://localhost:8080/"
        },
        "id": "2Wun571nmJWM",
        "outputId": "17cd01dc-1c7e-4358-c1ac-1d1efe102b6e"
      },
      "execution_count": null,
      "outputs": [
        {
          "output_type": "stream",
          "name": "stdout",
          "text": [
            "[3.20398598 5.93425158 1.9042503 ]\n"
          ]
        }
      ]
    },
    {
      "cell_type": "markdown",
      "source": [
        "当該のタスクを行うには、まず、複数のピークを表す関数を用意する必要があります。この関数は、各ピークを表す関数 (例: 高斯関数やLorentzian関数) の総和で表されます。例えば、次のような関数を用意することができます。\n",
        "\n",
        "\n",
        "この関数では、各ピークを表す高斯関数を、引数 params で与えられたパラメータで重ね合わせています。この例では、各ピークを表す高斯関数は、振幅、中心、標準偏差の 3 つのパラメータで表されます。\n",
        "\n",
        "\n",
        "次に、この関数を使って、scipy の curve_fit 関数を使って、生成した xrd スペクトルから複数のピークをフィッティングすることができます。例えば、次のようにして、生成した xrd スペクトルのデータ x と y を用いて、multi_peak_function 関数をフィッティングすることができます。"
      ],
      "metadata": {
        "id": "-CIZpHOZmeYV"
      }
    },
    {
      "cell_type": "code",
      "source": [
        "\n",
        "def multi_peak_function(x, *params):\n",
        "    y = 0\n",
        "    for i in range(0, len(params), 3):\n",
        "        y += params[i] * np.exp(-((x - params[i+1])**2) / (2 * params[i+2]**2))\n",
        "    return y"
      ],
      "metadata": {
        "id": "SPcnSSwvmfrg"
      },
      "execution_count": null,
      "outputs": []
    },
    {
      "cell_type": "code",
      "source": [
        "\n",
        "from scipy.signal import argrelmax\n",
        "\n",
        "# Find the indices of the local maxima in the data\n",
        "indices = argrelmax(y)[0]\n",
        "\n",
        "# Extract the local maxima from the data\n",
        "maxima = y[indices]"
      ],
      "metadata": {
        "id": "UVpqgniBmskQ"
      },
      "execution_count": null,
      "outputs": []
    },
    {
      "cell_type": "code",
      "source": [
        "\n",
        "# Initialize the parameters for the multi_peak_function\n",
        "params = []\n",
        "\n",
        "# Add a parameter for each local maximum\n",
        "for i, m in enumerate(maxima):\n",
        "    params.extend([m, indices[i], 1])\n",
        "\n",
        "# Fit the data to the multi_peak_function\n",
        "params_opt, params_cov = curve_fit(multi_peak_function, x, y, p0=params)"
      ],
      "metadata": {
        "id": "lBn9yzY6nDkK"
      },
      "execution_count": null,
      "outputs": []
    },
    {
      "cell_type": "markdown",
      "source": [
        "最後に、精度の比較をするために、上記の 2 つの方法を使ってフィッティングした結果を比較することができます。例えば、次のようにして、2 つの方法で得られた結果をプロットすることで、精度の比較を行うことができます。"
      ],
      "metadata": {
        "id": "uD0VNGX6nG8G"
      }
    },
    {
      "cell_type": "code",
      "source": [
        "\n",
        "import matplotlib.pyplot as plt\n",
        "\n",
        "# Generate the fitted curve using the optimized parameters from curve_fit\n",
        "y_fit_curve_fit = multi_peak_function(x, *params_opt)\n",
        "\n",
        "# Generate the fitted curve using the local maxima\n",
        "y_fit_argrelmax = multi_peak_function(x, *params)\n",
        "\n",
        "# Plot the original"
      ],
      "metadata": {
        "id": "ICY0KmJLnlHk"
      },
      "execution_count": null,
      "outputs": []
    },
    {
      "cell_type": "code",
      "source": [
        "\n",
        "import matplotlib.pyplot as plt\n",
        "\n",
        "# Generate the fitted curve using the optimized parameters from curve_fit\n",
        "y_fit_curve_fit = multi_peak_function(x, *params_opt)\n",
        "\n",
        "# Generate the fitted curve using the local maxima\n",
        "y_fit_argrelmax = multi_peak_function(x, *params)\n",
        "\n",
        "# Plot the original data and the fitted curves\n",
        "plt.plot(x, y, 'bo', label='Original data')\n",
        "plt.plot(x, y_fit_curve_fit, 'r', label='Fit using curve_fit')\n",
        "plt.plot(x, y_fit_argrelmax, 'g', label='Fit using argrelmax')\n",
        "plt.legend()\n",
        "plt.show()"
      ],
      "metadata": {
        "id": "Kft8luN5nKvh"
      },
      "execution_count": null,
      "outputs": []
    },
    {
      "cell_type": "markdown",
      "source": [
        "\n",
        "以下のようなサンプルコードを作成しました。このコードは、仮で生成した XRD スペクトルから重なる複数のピークをフィッティングする方法を示しています。\n",
        "\n",
        "\n",
        "まず、仮で生成した XRD スペクトルを作成します。ここでは、複数のガウス関数を使用して、重なるピークを生成します。その後、scipy モジュールの curve_fit 関数を使用して、これらのピークをフィッティングします。最後に、scipy モジュールの signal.argrelmax 関数を使用して、ピークを検出し、それらをプロットします。"
      ],
      "metadata": {
        "id": "leR7tkpaXpzc"
      }
    },
    {
      "cell_type": "code",
      "source": [
        "\n",
        "import numpy as np\n",
        "from scipy.optimize import curve_fit\n",
        "from scipy.signal import argrelmax\n",
        "import matplotlib.pyplot as plt\n",
        "\n",
        "# 仮で生成した XRD スペクトルを作成する\n",
        "# 複数のガウス関数を使用して、重なるピークを生成する\n",
        "def generate_spectrum(x, *params):\n",
        "    y = np.zeros_like(x)\n",
        "    for i in range(0, len(params), 3):\n",
        "        ctr = params[i]\n",
        "        amp = params[i+1]\n",
        "        wid = params[i+2]\n",
        "        y = y + amp * np.exp(-(x - ctr)**2 / wid)\n",
        "    return y\n",
        "\n",
        "# 仮で生成した XRD スペクトルを作成する\n",
        "x = np.linspace(0, 10, 1000)\n",
        "y = generate_spectrum(x, 1, 10, 0.1, 2, 5, 0.2, 3, 15, 0.3, 4, 20, 0.2)\n",
        "\n",
        "# 仮で生成した XRD スペクトルからピークをフィッティングする\n",
        "# curve_fit 関数を使用する\n",
        "def gaussian(x, ctr, amp, wid):\n",
        "    return amp * np.exp(-(x - ctr)**2 / wid)\n",
        "\n",
        "params, _ = curve_fit(gaussian, x, y, p0=[2, 15, 0.3])\n",
        "print(params)\n",
        "\n",
        "# フィッティングしたピークをプロットする\n",
        "plt.plot(x, y, 'b-', label='Original')\n",
        "plt.plot(x, gaussian(x, params[0], params[1], params[2]), 'r--', label='Fitted')\n",
        "plt.legend()\n",
        "plt.show()\n",
        "\n",
        "# 仮で生成した XRD スペクトルからピークを検出する\n",
        "# signal.argrelmax 関数を使用する\n",
        "peaks, _ = argrelmax(y, order=5)\n",
        "#print(peaks)\n",
        "\n",
        "# ピークの信号値を受け取る\n",
        "#peak_values = y[peaks]\n",
        "#print(peak_values)\n",
        "\n",
        "\n",
        "# 検出したピークをプロットする\n",
        "plt.plot(x, y, 'b-', label='Original')\n",
        "plt.plot(x[peaks], y[peaks], 'ro', label='Detected Peaks')\n",
        "plt.legend()\n",
        "plt.show()"
      ],
      "metadata": {
        "colab": {
          "base_uri": "https://localhost:8080/",
          "height": 575
        },
        "id": "gfqLMDwGXp96",
        "outputId": "d58405c2-dba4-449e-c152-09690d818ba5"
      },
      "execution_count": null,
      "outputs": [
        {
          "output_type": "stream",
          "name": "stdout",
          "text": [
            "[ 3.43315301 16.41517073  1.58707054]\n"
          ]
        },
        {
          "output_type": "display_data",
          "data": {
            "text/plain": [
              "<Figure size 432x288 with 1 Axes>"
            ],
            "image/png": "[encoded data removed]"
          },
          "metadata": {
            "needs_background": "light"
          }
        },
        {
          "output_type": "error",
          "ename": "ValueError",
          "evalue": "ignored",
          "traceback": [
            "\u001b[0;31m---------------------------------------------------------------------------\u001b[0m",
            "\u001b[0;31mValueError\u001b[0m                                Traceback (most recent call last)",
            "\u001b[0;32m<ipython-input-6-7a803109cb8d>\u001b[0m in \u001b[0;36m<module>\u001b[0;34m\u001b[0m\n\u001b[1;32m     35\u001b[0m \u001b[0;31m# 仮で生成した XRD スペクトルからピークを検出する\u001b[0m\u001b[0;34m\u001b[0m\u001b[0;34m\u001b[0m\u001b[0;34m\u001b[0m\u001b[0m\n\u001b[1;32m     36\u001b[0m \u001b[0;31m# signal.argrelmax 関数を使用する\u001b[0m\u001b[0;34m\u001b[0m\u001b[0;34m\u001b[0m\u001b[0;34m\u001b[0m\u001b[0m\n\u001b[0;32m---> 37\u001b[0;31m \u001b[0mpeaks\u001b[0m\u001b[0;34m,\u001b[0m \u001b[0m_\u001b[0m \u001b[0;34m=\u001b[0m \u001b[0margrelmax\u001b[0m\u001b[0;34m(\u001b[0m\u001b[0my\u001b[0m\u001b[0;34m,\u001b[0m \u001b[0morder\u001b[0m\u001b[0;34m=\u001b[0m\u001b[0;36m5\u001b[0m\u001b[0;34m)\u001b[0m\u001b[0;34m\u001b[0m\u001b[0;34m\u001b[0m\u001b[0m\n\u001b[0m\u001b[1;32m     38\u001b[0m \u001b[0;31m#print(peaks)\u001b[0m\u001b[0;34m\u001b[0m\u001b[0;34m\u001b[0m\u001b[0;34m\u001b[0m\u001b[0m\n\u001b[1;32m     39\u001b[0m \u001b[0;34m\u001b[0m\u001b[0m\n",
            "\u001b[0;31mValueError\u001b[0m: not enough values to unpack (expected 2, got 1)"
          ]
        }
      ]
    },
    {
      "cell_type": "markdown",
      "source": [
        "仮に生成したsem-edsスペクトルから複数のピークをフィッティングするためのGaussian mixtureモデル訓練して使うpythonサンプルコード"
      ],
      "metadata": {
        "id": "WZTgPG2K36FX"
      }
    },
    {
      "cell_type": "code",
      "source": [
        "\n",
        "import numpy as np\n",
        "import matplotlib.pyplot as plt\n",
        "\n",
        "from sklearn.mixture import GaussianMixture\n",
        "\n",
        "\n",
        "np.random.seed(42)\n",
        "\n",
        "# 生成するデータのピーク位置\n",
        "peaks = [100, 150, 200]\n",
        "# 生成するデータの標準偏差\n",
        "std = 20\n",
        "\n",
        "# 各ピークを生成するためのデータ\n",
        "data1 = np.random.normal(peaks[0], std, size=100)\n",
        "data2 = np.random.normal(peaks[1], std, size=100)\n",
        "data3 = np.random.normal(peaks[2], std, size=100)\n",
        "\n",
        "# ピークを含むデータを結合\n",
        "data = np.concatenate((data1, data2, data3))\n",
        "\n",
        "\n",
        "# Gaussian mixture modelを構築\n",
        "model = GaussianMixture(n_components=3)\n",
        "\n",
        "# モデルを訓練\n",
        "model.fit(data.reshape(-1, 1))"
      ],
      "metadata": {
        "colab": {
          "base_uri": "https://localhost:8080/"
        },
        "id": "8nMGoZmAYHrm",
        "outputId": "a3b4fdc1-7520-4a73-9bff-fad981dbb27a"
      },
      "execution_count": null,
      "outputs": [
        {
          "output_type": "execute_result",
          "data": {
            "text/plain": [
              "GaussianMixture(n_components=3)"
            ]
          },
          "metadata": {},
          "execution_count": 1
        }
      ]
    },
    {
      "cell_type": "code",
      "source": [
        "\n",
        "# データをプロット\n",
        "plt.hist(data, bins=50, density=True)\n",
        "\n",
        "# 訓練されたモデルから予測される確率密度をプロット\n",
        "x = np.linspace(data.min(), data.max(), 1000)\n",
        "logprob, responsibilities = model.score_samples(x.reshape(-1, 1))\n",
        "pdf = np.exp(logprob)\n",
        "plt.plot(x, pdf, linewidth=2)\n",
        "\n",
        "plt.show()"
      ],
      "metadata": {
        "id": "v0y8aITJ4NdW"
      },
      "execution_count": null,
      "outputs": []
    },
    {
      "cell_type": "markdown",
      "source": [
        "deep learning"
      ],
      "metadata": {
        "id": "WriiG10Q5DCu"
      }
    },
    {
      "cell_type": "code",
      "source": [
        "\n",
        "import numpy as np\n",
        "import matplotlib.pyplot as plt\n",
        "from scipy.optimize import curve_fit\n",
        "from scipy.signal import argrelmax# deep learning用ライブラリ\n",
        "import tensorflow as tf\n",
        "from tensorflow import keras"
      ],
      "metadata": {
        "id": "kvDJsj74ZqV_"
      },
      "execution_count": null,
      "outputs": []
    },
    {
      "cell_type": "code",
      "source": [
        "\n",
        "def generate_spectrum():\n",
        "    # ランダムなsem-edsスペクトルを生成する\n",
        "    spectrum = np.random.random(1024)\n",
        "    return spectrum"
      ],
      "metadata": {
        "id": "IYtD_Gh8Zrvv"
      },
      "execution_count": null,
      "outputs": []
    },
    {
      "cell_type": "code",
      "source": [
        "\n",
        "def estimate_peak_positions(spectrum):\n",
        "    # sem-edsスペクトルを平滑化する\n",
        "    smoothed_spectrum = smooth(spectrum)\n",
        "\n",
        "    # 平滑化したsem-edsスペクトルから、最大値を持つ位置をピークの位置とする\n",
        "    peak_positions = []\n",
        "    for i in range(1, len(smoothed_spectrum) - 1):\n",
        "        if smoothed_spectrum[i] > smoothed_spectrum[i-1] and smoothed_spectrum[i] > smoothed_spectrum[i+1]:\n",
        "            peak_positions.append(i)\n",
        "\n",
        "    return peak_positions\n",
        "\n",
        "def smooth(spectrum):\n",
        "    # sem-edsスペクトルを平滑化する（例：平均化）\n",
        "    smoothed_spectrum = np.empty_like(spectrum)\n",
        "    for i in range(1, len(spectrum) - 1):\n",
        "        smoothed_spectrum[i] = (spectrum[i-1] + spectrum[i] + spectrum[i+1]) / 3\n",
        "    smoothed_spectrum[0] = spectrum[0]\n",
        "    smoothed_spectrum[-1] = spectrum[-1]\n",
        "    return smoothed_spectrum"
      ],
      "metadata": {
        "id": "ao1EERmrdpUl"
      },
      "execution_count": null,
      "outputs": []
    },
    {
      "cell_type": "code",
      "source": [
        "\n",
        "\n",
        "def fit_peaks(spectrum):\n",
        "    # sem-edsスペクトルからピークをフィッティングする\n",
        "\n",
        "    # ピークの位置を推定する\n",
        "    peak_positions = estimate_peak_positions(spectrum)\n",
        "\n",
        "    # ピークの位置から、各ピークの位置、幅、強度をフィッティングする\n",
        "    peak_parameters = []\n",
        "    for peak_position in peak_positions:\n",
        "        peak_parameter = fit_peak(spectrum, peak_position)\n",
        "        peak_parameters.append(peak_parameter)\n",
        "\n",
        "    return peak_parameters\n",
        "\n",
        "def fit_peak(spectrum, peak_position):\n",
        "    # sem-edsスペクトルとピークの位置から、ピークの位置、幅、強度をフィッティングする\n",
        "\n",
        "    # 周りのデータを取り出す\n",
        "    left_index = peak_position - 10\n",
        "    right_index = peak_position + 10\n",
        "    data = spectrum[left_index:right_index+1]\n",
        "    x = np.arange(left_index, right_index+1)\n",
        "\n",
        "    # ピークの位置、幅、強度をフィッティングする\n",
        "    peak_parameter, _ = curve_fit(peak_function, x, data)\n",
        "\n",
        "    return peak_parameter\n",
        "\n",
        "def peak_function(x, peak_position, width, intensity):\n",
        "    # ピーク関数\n",
        "    return intensity * np.exp(-((x - peak_position) / width) ** 2)"
      ],
      "metadata": {
        "id": "8AAgPQrLc3u2"
      },
      "execution_count": null,
      "outputs": []
    },
    {
      "cell_type": "code",
      "source": [
        "\n",
        "# deep learningモデルを定義する\n",
        "model = keras.Sequential([\n",
        "    keras.layers.Dense(64, activation='relu', input_shape=(1024,)),\n",
        "    keras.layers.Dense(32, activation='relu'),\n",
        "    keras.layers.Dense(16, activation='relu'),\n",
        "    keras.layers.Dense(6)\n",
        "])"
      ],
      "metadata": {
        "id": "u6r0_guPbf3i"
      },
      "execution_count": null,
      "outputs": []
    },
    {
      "cell_type": "code",
      "source": [
        "\n",
        "# 訓練データを生成する\n",
        "num_train_samples = 100\n",
        "x_train = np.empty((num_train_samples, 1024))\n",
        "y_train = np.empty((num_train_samples, 6))\n",
        "for i in range(num_train_samples):\n",
        "    # sem-edsスペクトルを生成する\n",
        "    spectrum = generate_spectrum()\n",
        "    x_train[i, :] = spectrum\n",
        "    y_train[i, :] = fit_peaks(spectrum)"
      ],
      "metadata": {
        "id": "e0HRDIHogE16"
      },
      "execution_count": null,
      "outputs": []
    },
    {
      "cell_type": "code",
      "source": [
        "\n",
        "# モデルをコンパイルする\n",
        "model.compile(optimizer='adam', loss='mean_squared_error')\n",
        "\n",
        "# 訓練データでモデルを訓練する\n",
        "history = model.fit(x_train, y_train, epochs=10, validation_data=(x_test, y_test))\n",
        "\n",
        "# モデルを訓練する\n",
        "# history = model.fit(x_train, y_train, epochs=10, validation_split=0.2)\n",
        "\n",
        "# モデルを評価する\n",
        "test_loss, test_acc = model.evaluate(x_test, y_test)\n",
        "print('Test loss:', test_loss)\n",
        "print('Test accuracy:', test_acc)"
      ],
      "metadata": {
        "id": "Q52kPmBmbtcY"
      },
      "execution_count": null,
      "outputs": []
    },
    {
      "cell_type": "markdown",
      "source": [
        "サンプル２"
      ],
      "metadata": {
        "id": "5X7dv7Ucl6d8"
      }
    },
    {
      "cell_type": "code",
      "source": [
        "\n",
        "import numpy as np\n",
        "import matplotlib.pyplot as plt\n",
        "\n",
        "# 1. sem-edsスペクトルのデータセットを用意する\n",
        "# 以下は、複数のピークを含むsem-edsスペクトルのサンプルを表す例です\n",
        "\n",
        "# 2. データセットをトレーニングデータとテストデータに分割する\n",
        "X_train = np.array([[1, 2, 3, 4, 5],\n",
        "                    [5, 4, 3, 2, 1],\n",
        "                    [1, 2, 3, 4, 5]])\n",
        "y_train = np.array([[1, 2, 3],\n",
        "                    [4, 5, 6],\n",
        "                    [7, 8, 9]])\n",
        "\n",
        "X_test = np.array([[6, 7, 8, 9, 10]])\n",
        "y_test = np.array([[10, 11, 12]])\n",
        "\n",
        "\n",
        "# 3. ピークフィッティングのためのDeep Learningモデルを構築する\n",
        "from tensorflow.keras.models import Sequential\n",
        "from tensorflow.keras.layers import Dense\n",
        "\n",
        "# 入力次元数はsem-edsスペクトルの波長数、出力次元数はピーク数に応じて変更する必要があります\n",
        "model = Sequential()\n",
        "model.add(Dense(32, input_dim=5, activation='relu'))\n",
        "model.add(Dense(32, activation='relu'))\n",
        "model.add(Dense(3, activation='linear'))\n",
        "\n",
        "model.compile(loss='mean_squared_error', optimizer='adam')\n",
        "\n",
        "# 4. モデルをトレーニングデータで訓練する\n",
        "history = model.fit(X_train, y_train, epochs=10, batch_size=32)\n",
        "\n",
        "# 5. 訓練されたモデルを使用して、テストデータのsem-edsスペクトルのピークをフィッティングする\n",
        "y_pred = model.predict(X_test)\n",
        "\n",
        "# 6. フィッティングされたピークを使用して、sem-edsスペクトルをplotし、結果を確認する\n",
        "plt.plot(X_test[0], y_pred[0], 'bo', label='Predicted')\n",
        "plt.plot(X_test[0], y_test[0], 'ro', label='True')\n",
        "plt.legend()\n",
        "plt.show()"
      ],
      "metadata": {
        "colab": {
          "base_uri": "https://localhost:8080/",
          "height": 1000
        },
        "id": "LxGhEj7Dl8o-",
        "outputId": "a0c11a39-bc53-4e7b-bebd-11f46c7a1591"
      },
      "execution_count": null,
      "outputs": [
        {
          "output_type": "stream",
          "name": "stdout",
          "text": [
            "Epoch 1/10\n",
            "1/1 [==============================] - 0s 272ms/step - loss: 30.7764\n",
            "Epoch 2/10\n",
            "1/1 [==============================] - 0s 7ms/step - loss: 30.0994\n",
            "Epoch 3/10\n",
            "1/1 [==============================] - 0s 8ms/step - loss: 29.4833\n",
            "Epoch 4/10\n",
            "1/1 [==============================] - 0s 7ms/step - loss: 28.9133\n",
            "Epoch 5/10\n",
            "1/1 [==============================] - 0s 6ms/step - loss: 28.3684\n",
            "Epoch 6/10\n",
            "1/1 [==============================] - 0s 6ms/step - loss: 27.8272\n",
            "Epoch 7/10\n",
            "1/1 [==============================] - 0s 5ms/step - loss: 27.2896\n",
            "Epoch 8/10\n",
            "1/1 [==============================] - 0s 5ms/step - loss: 26.7552\n",
            "Epoch 9/10\n",
            "1/1 [==============================] - 0s 4ms/step - loss: 26.2310\n",
            "Epoch 10/10\n",
            "1/1 [==============================] - 0s 4ms/step - loss: 25.7325\n",
            "1/1 [==============================] - 0s 40ms/step\n"
          ]
        },
        {
          "output_type": "error",
          "ename": "ValueError",
          "evalue": "ignored",
          "traceback": [
            "\u001b[0;31m---------------------------------------------------------------------------\u001b[0m",
            "\u001b[0;31mValueError\u001b[0m                                Traceback (most recent call last)",
            "\u001b[0;32m<ipython-input-43-01f676b0464f>\u001b[0m in \u001b[0;36m<module>\u001b[0;34m\u001b[0m\n\u001b[1;32m     36\u001b[0m \u001b[0;34m\u001b[0m\u001b[0m\n\u001b[1;32m     37\u001b[0m \u001b[0;31m# 6. フィッティングされたピークを使用して、sem-edsスペクトルをplotし、結果を確認する\u001b[0m\u001b[0;34m\u001b[0m\u001b[0;34m\u001b[0m\u001b[0;34m\u001b[0m\u001b[0m\n\u001b[0;32m---> 38\u001b[0;31m \u001b[0mplt\u001b[0m\u001b[0;34m.\u001b[0m\u001b[0mplot\u001b[0m\u001b[0;34m(\u001b[0m\u001b[0mX_test\u001b[0m\u001b[0;34m[\u001b[0m\u001b[0;36m0\u001b[0m\u001b[0;34m]\u001b[0m\u001b[0;34m,\u001b[0m \u001b[0my_pred\u001b[0m\u001b[0;34m[\u001b[0m\u001b[0;36m0\u001b[0m\u001b[0;34m]\u001b[0m\u001b[0;34m,\u001b[0m \u001b[0;34m'bo'\u001b[0m\u001b[0;34m,\u001b[0m \u001b[0mlabel\u001b[0m\u001b[0;34m=\u001b[0m\u001b[0;34m'Predicted'\u001b[0m\u001b[0;34m)\u001b[0m\u001b[0;34m\u001b[0m\u001b[0;34m\u001b[0m\u001b[0m\n\u001b[0m\u001b[1;32m     39\u001b[0m \u001b[0mplt\u001b[0m\u001b[0;34m.\u001b[0m\u001b[0mplot\u001b[0m\u001b[0;34m(\u001b[0m\u001b[0mX_test\u001b[0m\u001b[0;34m[\u001b[0m\u001b[0;36m0\u001b[0m\u001b[0;34m]\u001b[0m\u001b[0;34m,\u001b[0m \u001b[0my_test\u001b[0m\u001b[0;34m[\u001b[0m\u001b[0;36m0\u001b[0m\u001b[0;34m]\u001b[0m\u001b[0;34m,\u001b[0m \u001b[0;34m'ro'\u001b[0m\u001b[0;34m,\u001b[0m \u001b[0mlabel\u001b[0m\u001b[0;34m=\u001b[0m\u001b[0;34m'True'\u001b[0m\u001b[0;34m)\u001b[0m\u001b[0;34m\u001b[0m\u001b[0;34m\u001b[0m\u001b[0m\n\u001b[1;32m     40\u001b[0m \u001b[0mplt\u001b[0m\u001b[0;34m.\u001b[0m\u001b[0mlegend\u001b[0m\u001b[0;34m(\u001b[0m\u001b[0;34m)\u001b[0m\u001b[0;34m\u001b[0m\u001b[0;34m\u001b[0m\u001b[0m\n",
            "\u001b[0;32m/usr/local/lib/python3.8/dist-packages/matplotlib/pyplot.py\u001b[0m in \u001b[0;36mplot\u001b[0;34m(scalex, scaley, data, *args, **kwargs)\u001b[0m\n\u001b[1;32m   2759\u001b[0m \u001b[0;34m@\u001b[0m\u001b[0mdocstring\u001b[0m\u001b[0;34m.\u001b[0m\u001b[0mcopy\u001b[0m\u001b[0;34m(\u001b[0m\u001b[0mAxes\u001b[0m\u001b[0;34m.\u001b[0m\u001b[0mplot\u001b[0m\u001b[0;34m)\u001b[0m\u001b[0;34m\u001b[0m\u001b[0;34m\u001b[0m\u001b[0m\n\u001b[1;32m   2760\u001b[0m \u001b[0;32mdef\u001b[0m \u001b[0mplot\u001b[0m\u001b[0;34m(\u001b[0m\u001b[0;34m*\u001b[0m\u001b[0margs\u001b[0m\u001b[0;34m,\u001b[0m \u001b[0mscalex\u001b[0m\u001b[0;34m=\u001b[0m\u001b[0;32mTrue\u001b[0m\u001b[0;34m,\u001b[0m \u001b[0mscaley\u001b[0m\u001b[0;34m=\u001b[0m\u001b[0;32mTrue\u001b[0m\u001b[0;34m,\u001b[0m \u001b[0mdata\u001b[0m\u001b[0;34m=\u001b[0m\u001b[0;32mNone\u001b[0m\u001b[0;34m,\u001b[0m \u001b[0;34m**\u001b[0m\u001b[0mkwargs\u001b[0m\u001b[0;34m)\u001b[0m\u001b[0;34m:\u001b[0m\u001b[0;34m\u001b[0m\u001b[0;34m\u001b[0m\u001b[0m\n\u001b[0;32m-> 2761\u001b[0;31m     return gca().plot(\n\u001b[0m\u001b[1;32m   2762\u001b[0m         *args, scalex=scalex, scaley=scaley, **({\"data\": data} if data\n\u001b[1;32m   2763\u001b[0m         is not None else {}), **kwargs)\n",
            "\u001b[0;32m/usr/local/lib/python3.8/dist-packages/matplotlib/axes/_axes.py\u001b[0m in \u001b[0;36mplot\u001b[0;34m(self, scalex, scaley, data, *args, **kwargs)\u001b[0m\n\u001b[1;32m   1645\u001b[0m         \"\"\"\n\u001b[1;32m   1646\u001b[0m         \u001b[0mkwargs\u001b[0m \u001b[0;34m=\u001b[0m \u001b[0mcbook\u001b[0m\u001b[0;34m.\u001b[0m\u001b[0mnormalize_kwargs\u001b[0m\u001b[0;34m(\u001b[0m\u001b[0mkwargs\u001b[0m\u001b[0;34m,\u001b[0m \u001b[0mmlines\u001b[0m\u001b[0;34m.\u001b[0m\u001b[0mLine2D\u001b[0m\u001b[0;34m)\u001b[0m\u001b[0;34m\u001b[0m\u001b[0;34m\u001b[0m\u001b[0m\n\u001b[0;32m-> 1647\u001b[0;31m         \u001b[0mlines\u001b[0m \u001b[0;34m=\u001b[0m \u001b[0;34m[\u001b[0m\u001b[0;34m*\u001b[0m\u001b[0mself\u001b[0m\u001b[0;34m.\u001b[0m\u001b[0m_get_lines\u001b[0m\u001b[0;34m(\u001b[0m\u001b[0;34m*\u001b[0m\u001b[0margs\u001b[0m\u001b[0;34m,\u001b[0m \u001b[0mdata\u001b[0m\u001b[0;34m=\u001b[0m\u001b[0mdata\u001b[0m\u001b[0;34m,\u001b[0m \u001b[0;34m**\u001b[0m\u001b[0mkwargs\u001b[0m\u001b[0;34m)\u001b[0m\u001b[0;34m]\u001b[0m\u001b[0;34m\u001b[0m\u001b[0;34m\u001b[0m\u001b[0m\n\u001b[0m\u001b[1;32m   1648\u001b[0m         \u001b[0;32mfor\u001b[0m \u001b[0mline\u001b[0m \u001b[0;32min\u001b[0m \u001b[0mlines\u001b[0m\u001b[0;34m:\u001b[0m\u001b[0;34m\u001b[0m\u001b[0;34m\u001b[0m\u001b[0m\n\u001b[1;32m   1649\u001b[0m             \u001b[0mself\u001b[0m\u001b[0;34m.\u001b[0m\u001b[0madd_line\u001b[0m\u001b[0;34m(\u001b[0m\u001b[0mline\u001b[0m\u001b[0;34m)\u001b[0m\u001b[0;34m\u001b[0m\u001b[0;34m\u001b[0m\u001b[0m\n",
            "\u001b[0;32m/usr/local/lib/python3.8/dist-packages/matplotlib/axes/_base.py\u001b[0m in \u001b[0;36m__call__\u001b[0;34m(self, *args, **kwargs)\u001b[0m\n\u001b[1;32m    214\u001b[0m                 \u001b[0mthis\u001b[0m \u001b[0;34m+=\u001b[0m \u001b[0margs\u001b[0m\u001b[0;34m[\u001b[0m\u001b[0;36m0\u001b[0m\u001b[0;34m]\u001b[0m\u001b[0;34m,\u001b[0m\u001b[0;34m\u001b[0m\u001b[0;34m\u001b[0m\u001b[0m\n\u001b[1;32m    215\u001b[0m                 \u001b[0margs\u001b[0m \u001b[0;34m=\u001b[0m \u001b[0margs\u001b[0m\u001b[0;34m[\u001b[0m\u001b[0;36m1\u001b[0m\u001b[0;34m:\u001b[0m\u001b[0;34m]\u001b[0m\u001b[0;34m\u001b[0m\u001b[0;34m\u001b[0m\u001b[0m\n\u001b[0;32m--> 216\u001b[0;31m             \u001b[0;32myield\u001b[0m \u001b[0;32mfrom\u001b[0m \u001b[0mself\u001b[0m\u001b[0;34m.\u001b[0m\u001b[0m_plot_args\u001b[0m\u001b[0;34m(\u001b[0m\u001b[0mthis\u001b[0m\u001b[0;34m,\u001b[0m \u001b[0mkwargs\u001b[0m\u001b[0;34m)\u001b[0m\u001b[0;34m\u001b[0m\u001b[0;34m\u001b[0m\u001b[0m\n\u001b[0m\u001b[1;32m    217\u001b[0m \u001b[0;34m\u001b[0m\u001b[0m\n\u001b[1;32m    218\u001b[0m     \u001b[0;32mdef\u001b[0m \u001b[0mget_next_color\u001b[0m\u001b[0;34m(\u001b[0m\u001b[0mself\u001b[0m\u001b[0;34m)\u001b[0m\u001b[0;34m:\u001b[0m\u001b[0;34m\u001b[0m\u001b[0;34m\u001b[0m\u001b[0m\n",
            "\u001b[0;32m/usr/local/lib/python3.8/dist-packages/matplotlib/axes/_base.py\u001b[0m in \u001b[0;36m_plot_args\u001b[0;34m(self, tup, kwargs)\u001b[0m\n\u001b[1;32m    340\u001b[0m \u001b[0;34m\u001b[0m\u001b[0m\n\u001b[1;32m    341\u001b[0m         \u001b[0;32mif\u001b[0m \u001b[0mx\u001b[0m\u001b[0;34m.\u001b[0m\u001b[0mshape\u001b[0m\u001b[0;34m[\u001b[0m\u001b[0;36m0\u001b[0m\u001b[0;34m]\u001b[0m \u001b[0;34m!=\u001b[0m \u001b[0my\u001b[0m\u001b[0;34m.\u001b[0m\u001b[0mshape\u001b[0m\u001b[0;34m[\u001b[0m\u001b[0;36m0\u001b[0m\u001b[0;34m]\u001b[0m\u001b[0;34m:\u001b[0m\u001b[0;34m\u001b[0m\u001b[0;34m\u001b[0m\u001b[0m\n\u001b[0;32m--> 342\u001b[0;31m             raise ValueError(f\"x and y must have same first dimension, but \"\n\u001b[0m\u001b[1;32m    343\u001b[0m                              f\"have shapes {x.shape} and {y.shape}\")\n\u001b[1;32m    344\u001b[0m         \u001b[0;32mif\u001b[0m \u001b[0mx\u001b[0m\u001b[0;34m.\u001b[0m\u001b[0mndim\u001b[0m \u001b[0;34m>\u001b[0m \u001b[0;36m2\u001b[0m \u001b[0;32mor\u001b[0m \u001b[0my\u001b[0m\u001b[0;34m.\u001b[0m\u001b[0mndim\u001b[0m \u001b[0;34m>\u001b[0m \u001b[0;36m2\u001b[0m\u001b[0;34m:\u001b[0m\u001b[0;34m\u001b[0m\u001b[0;34m\u001b[0m\u001b[0m\n",
            "\u001b[0;31mValueError\u001b[0m: x and y must have same first dimension, but have shapes (5,) and (3,)"
          ]
        },
        {
          "output_type": "display_data",
          "data": {
            "text/plain": [
              "<Figure size 432x288 with 1 Axes>"
            ],
            "image/png": "[encoded data removed]"
          },
          "metadata": {
            "needs_background": "light"
          }
        }
      ]
    },
    {
      "cell_type": "code",
      "source": [],
      "metadata": {
        "id": "PLGPeu1SfjFa"
      },
      "execution_count": null,
      "outputs": []
    },
    {
      "cell_type": "markdown",
      "source": [
        "pmp linrary"
      ],
      "metadata": {
        "id": "dC41UntEfkm8"
      }
    },
    {
      "cell_type": "code",
      "source": [
        "\n",
        "import pmp\n",
        "\n",
        "# Define the vertices of the polygon as a list of (x, y) tuples\n",
        "vertices = [(10, 20), (20, 30), (30, 10), (40, 5), (50, 20)]\n",
        "\n",
        "# Create a canvas to draw on\n",
        "canvas = pmp.Canvas(100, 100)\n",
        "\n",
        "# Use the scanline algorithm to fill the polygon\n",
        "canvas.fill_polygon(vertices, color=(255, 0, 0))\n",
        "\n",
        "# Save the image to a file\n",
        "canvas.save(\"filled_polygon.png\")"
      ],
      "metadata": {
        "id": "JCysY6WAfoIx"
      },
      "execution_count": null,
      "outputs": []
    },
    {
      "cell_type": "code",
      "source": [
        "\n",
        "#include <pmp/geometry/Polygon.h>\n",
        "#include <pmp/algorithms/ScanlineFill.h>\n",
        "\n",
        "int main()\n",
        "{\n",
        "    // Define the vertices of the polygon as a vector of pmp::Point2D objects\n",
        "    std::vector<pmp::Point2D> vertices;\n",
        "    vertices.push_back(pmp::Point2D(10, 20));\n",
        "    vertices.push_back(pmp::Point2D(20, 30));\n",
        "    vertices.push_back(pmp::Point2D(30, 10));\n",
        "    vertices.push_back(pmp::Point2D(40, 5));\n",
        "    vertices.push_back(pmp::Point2D(50, 20));\n",
        "\n",
        "    // Define the vertices of the holes as a vector of pmp::Point2D objects\n",
        "    std::vector<pmp::Point2D> holes;\n",
        "    holes.push_back(pmp::Point2D(15, 25));\n",
        "    holes.push_back(pmp::Point2D(25, 25));\n",
        "    holes.push_back(pmp::Point2D(20, 20));\n",
        "\n",
        "    // Create a polygon object with the vertices and holes\n",
        "    pmp::Polygon poly(vertices, holes);\n",
        "\n",
        "    // Create a canvas to draw on\n",
        "    pmp::Canvas canvas(100, 100);\n",
        "\n",
        "    // Use the scanline algorithm to fill the polygon\n",
        "    pmp::ScanlineFill fill(canvas);\n",
        "    fill.polygon(poly, pmp::Color(255, 0, 0));\n",
        "\n",
        "    // Save the image to a file\n",
        "    canvas.save(\"filled_polygon.png\");\n",
        "\n",
        "    return 0;\n",
        "}"
      ],
      "metadata": {
        "id": "u8fVJR79gQBq"
      },
      "execution_count": null,
      "outputs": []
    },
    {
      "cell_type": "code",
      "source": [
        "\n",
        "#include <pmp/geometry/Polygon.h>\n",
        "#include <pmp/algorithms/ScanlineFill.h>\n",
        "\n",
        "int main()\n",
        "{\n",
        "    // Define the vertices of the polygon as a vector of pmp::Point2D objects\n",
        "    std::vector<pmp::Point2D> vertices;\n",
        "    vertices.push_back(pmp::Point2D(10, 20));\n",
        "    vertices.push_back(pmp::Point2D(20, 30));\n",
        "    vertices.push_back(pmp::Point2D(30, 10));\n",
        "    vertices.push_back(pmp::Point2D(40, 5));\n",
        "    vertices.push_back(pmp::Point2D(50, 20));\n",
        "\n",
        "    // Define the vertices of the holes as a vector of pmp::Point2D objects\n",
        "    std::vector<pmp::Point2D> holes;\n",
        "    holes.push_back(pmp::Point2D(15, 25));\n",
        "    holes.push_back(pmp::Point2D(25, 25));\n",
        "    holes.push_back(pmp::Point2D(20, 20));\n",
        "\n",
        "    // Create a manifold polygon object with the vertices and holes\n",
        "    pmp::Polygon poly(vertices, holes, true);\n",
        "\n",
        "    // Create a canvas to draw on\n",
        "    pmp::Canvas canvas(100, 100);\n",
        "\n",
        "    // Use the scanline algorithm to fill the polygon\n",
        "    pmp::ScanlineFill fill(canvas);\n",
        "    fill.polygon(poly, pmp::Color(255, 0, 0));\n",
        "\n",
        "    // Save the image to a file\n",
        "    canvas.save(\"filled_polygon.png\");\n",
        "\n",
        "    return 0;\n",
        "}"
      ],
      "metadata": {
        "id": "qIkYZGtdhLPU"
      },
      "execution_count": null,
      "outputs": []
    },
    {
      "cell_type": "code",
      "source": [
        "\n",
        "#include <pmp/geometry/Polygon.h>\n",
        "#include <pmp/algorithms/ScanlineFill.h>\n",
        "\n",
        "int main()\n",
        "{\n",
        "    // Define the vertices of the self-intersecting polygon as a vector of pmp::Point2D objects\n",
        "    std::vector<pmp::Point2D> vertices;\n",
        "    vertices.push_back(pmp::Point2D(10, 20));\n",
        "    vertices.push_back(pmp::Point2D(20, 30));\n",
        "    vertices.push_back(pmp::Point2D(30, 10));\n",
        "    vertices.push_back(pmp::Point2D(40, 5));\n",
        "    vertices.push_back(pmp::Point2D(50, 20));\n",
        "    vertices.push_back(pmp::Point2D(25, 25));\n",
        "    vertices.push_back(pmp::Point2D(30, 20));\n",
        "\n",
        "    // Define the vertices of the holes as a vector of pmp::Point2D objects\n",
        "    std::vector<pmp::Point2D> holes;\n",
        "    holes.push_back(pmp::Point2D(15, 25));\n",
        "    holes.push_back(pmp::Point2D(25, 25));\n",
        "    holes.push_back(pmp::Point2D(20, 20));\n",
        "\n",
        "    // Create a manifold polygon object with the vertices and holes\n",
        "    pmp::Polygon poly(vertices, holes, true);\n",
        "\n",
        "    // Create a canvas to draw on\n",
        "    pmp::Canvas canvas(100, 100);\n",
        "\n",
        "    // Use the scanline algorithm to fill the polygon, targeting a specific vertex\n",
        "    pmp::ScanlineFill fill(canvas);\n",
        "    fill.polygon(poly, pmp::Color(255, 0, 0), 3);  // target vertex 3 (indexing starts at 0)\n",
        "\n",
        "    // Save the image to a file\n",
        "    canvas.save(\"filled_polygon.png\");\n",
        "\n",
        "    return 0;\n",
        "}"
      ],
      "metadata": {
        "id": "kxAgxt6nijOs"
      },
      "execution_count": null,
      "outputs": []
    },
    {
      "cell_type": "code",
      "source": [
        "\n",
        "#include <pim/polyhedron.h>\n",
        "#include <pim/mesh.h>\n",
        "\n",
        "int main() {\n",
        "  // Create a mesh object\n",
        "  pim::Mesh mesh;\n",
        "\n",
        "  // Load the mesh data from a file\n",
        "  mesh.load(\"mesh.obj\");\n",
        "\n",
        "  // Find all multiple edge holes in the self-crossing vertex index\n",
        "  std::vector<std::vector<pim::HalfedgeHandle>> holes;\n",
        "  pim::find_multiple_edge_holes(mesh, holes);\n",
        "\n",
        "  // Fill the holes\n",
        "  for (const auto& hole : holes) {\n",
        "    pim::fill_hole(mesh, hole);\n",
        "  }\n",
        "\n",
        "  // Save the modified mesh\n",
        "  mesh.save(\"filled_mesh.obj\");\n",
        "\n",
        "  return 0;\n",
        "}"
      ],
      "metadata": {
        "id": "nJt3Nd-1lJzv"
      },
      "execution_count": null,
      "outputs": []
    },
    {
      "cell_type": "code",
      "source": [
        "\n",
        "#include <pim/polyhedron.h>\n",
        "#include <pim/mesh.h>\n",
        "\n",
        "int main() {\n",
        "  // Create a mesh object\n",
        "  pim::Mesh mesh;\n",
        "\n",
        "  // Load the mesh data from a file\n",
        "  mesh.load(\"mesh.obj\");\n",
        "\n",
        "  // Find all multiple edge holes in the self-crossing vertex index\n",
        "  std::vector<std::vector<pim::HalfedgeHandle>> holes;\n",
        "  pim::find_multiple_edge_holes(mesh, holes);\n",
        "\n",
        "  // Print the halfedge handles of each hole\n",
        "  for (const auto& hole : holes) {\n",
        "    std::cout << \"Hole: \";\n",
        "    for (const auto& heh : hole) {\n",
        "      std::cout << heh.idx() << \" \";\n",
        "    }\n",
        "    std::cout << std::endl;\n",
        "  }\n",
        "\n",
        "  return 0;\n",
        "}"
      ],
      "metadata": {
        "id": "7dNBpA_LmOGd"
      },
      "execution_count": null,
      "outputs": []
    },
    {
      "cell_type": "code",
      "source": [
        "\n",
        "#include <iostream>\n",
        "#include <vector>\n",
        "#include <unordered_set>\n",
        "\n",
        "#include <pmp/SurfaceMesh.h>\n",
        "#include <pmp/algorithms/SurfaceMeshCleanup.h>\n",
        "\n",
        "int main()\n",
        "{\n",
        "    // Create a surface mesh\n",
        "    pmp::SurfaceMesh mesh;\n",
        "\n",
        "    // Add some vertices to the mesh\n",
        "    pmp::Vertex v0 = mesh.add_vertex(pmp::Point(0, 0, 0));\n",
        "    pmp::Vertex v1 = mesh.add_vertex(pmp::Point(1, 0, 0));\n",
        "    pmp::Vertex v2 = mesh.add_vertex(pmp::Point(1, 1, 0));\n",
        "    pmp::Vertex v3 = mesh.add_vertex(pmp::Point(0, 1, 0));\n",
        "    pmp::Vertex v4 = mesh.add_vertex(pmp::Point(0.5, 0.5, 1));\n",
        "\n",
        "    // Add some faces to the mesh\n",
        "    std::vector<pmp::Vertex> face;\n",
        "    face = {v0, v1, v4};\n",
        "    mesh.add_face(face);\n",
        "    face = {v1, v2, v4};\n",
        "    mesh.add_face(face);\n",
        "    face = {v2, v3, v4};\n",
        "    mesh.add_face(face);\n",
        "    face = {v3, v0, v4};\n",
        "    mesh.add_face(face);\n",
        "\n",
        "    // Find the self-crossing vertices\n",
        "    std::unordered_set<pmp::Vertex> self_crossing_vertices;\n",
        "    for (pmp::Vertex v : mesh.vertices())\n",
        "    {\n",
        "        if (mesh.is_self_crossing_vertex(v))\n",
        "        {\n",
        "            self_crossing_vertices.insert(v);\n",
        "        }\n",
        "    }\n",
        "\n",
        "    // Fill the multiple edge holes of the self-crossing vertices\n",
        "    pmp::cleanup::fill_multiple_edge_holes(mesh, self_crossing_vertices);\n",
        "\n",
        "    // Print the resulting mesh\n",
        "    std::cout << \"Vertices: \" << std::endl;\n",
        "    for (pmp::Vertex v : mesh.vertices())\n",
        "    {\n",
        "        std::cout << \"Vertex \" << v << \": \" << mesh.point(v) << std::endl;\n",
        "    }\n",
        "    std::cout << \"Faces: \" << std::endl;\n",
        "    for (pmp::Face f : mesh.faces())\n",
        "    {\n",
        "        std::cout << \"Face \" << f << \": \";\n",
        "        for (pmp::Vertex v : mesh.vertices(f))\n",
        "        {\n",
        "            std::cout << v << \" \";\n",
        "        }\n",
        "        std::cout << std::endl;\n",
        "    }\n",
        "\n",
        "    return 0;\n",
        "}"
      ],
      "metadata": {
        "id": "9Ix_e7Y5nekM"
      },
      "execution_count": null,
      "outputs": []
    },
    {
      "cell_type": "code",
      "source": [
        "\n",
        "#include <iostream>\n",
        "#include <vector>\n",
        "#include <unordered_set>\n",
        "\n",
        "#include <pmp/SurfaceMesh.h>\n",
        "#include <pmp/algorithms/SurfaceMeshCleanup.h>\n",
        "\n",
        "int main()\n",
        "{\n",
        "    // Create a surface mesh\n",
        "    pmp::SurfaceMesh mesh;\n",
        "\n",
        "    // Add some vertices to the mesh\n",
        "    pmp::Vertex v0 = mesh.add_vertex(pmp::Point(0, 0, 0));\n",
        "    pmp::Vertex v1 = mesh.add_vertex(pmp::Point(1, 0, 0));\n",
        "    pmp::Vertex v2 = mesh.add_vertex(pmp::Point(1, 1, 0));\n",
        "    pmp::Vertex v3 = mesh.add_vertex(pmp::Point(0, 1, 0));\n",
        "    pmp::Vertex v4 = mesh.add_vertex(pmp::Point(0.5, 0.5, 1));\n",
        "\n",
        "    // Add some faces to the mesh\n",
        "    std::vector<pmp::Vertex> face;\n",
        "    face = {v0, v1, v4};\n",
        "    mesh.add_face(face);\n",
        "    face = {v1, v2, v4};\n",
        "    mesh.add_face(face);\n",
        "    face = {v2, v3, v4};\n",
        "    mesh.add_face(face);\n",
        "    face = {v3, v0, v4};\n",
        "    mesh.add_face(face);\n",
        "\n",
        "    // Find the self-crossing vertices\n",
        "    std::unordered_set<pmp::Vertex> self_crossing_vertices;\n",
        "    for (pmp::Vertex v : mesh.vertices())\n",
        "    {\n",
        "        if (mesh.is_self_crossing_vertex(v))\n",
        "        {\n",
        "            self_crossing_vertices.insert(v);\n",
        "        }\n",
        "    }\n",
        "\n",
        "    // Fill the multiple half-edge holes of the self-crossing vertices\n",
        "    pmp::cleanup::fill_multiple_halfedge_holes(mesh, self_crossing_vertices);\n",
        "\n",
        "    // Print the resulting mesh\n",
        "    std::cout << \"Vertices: \" << std::endl;\n",
        "    for (pmp::Vertex v : mesh.vertices())\n",
        "    {\n",
        "        std::cout << \"Vertex \" << v << \": \" << mesh.point(v) << std::endl;\n",
        "    }\n",
        "    std::cout << \"Faces: \" << std::endl;\n",
        "    for (pmp::Face f : mesh.faces())\n",
        "    {\n",
        "        std::cout << \"Face \" << f << \": \";\n",
        "        for (pmp::Vertex v : mesh.vertices(f))\n",
        "        {\n",
        "            std::cout << v << \" \";\n",
        "        }\n",
        "        std::cout << std::endl;\n",
        "    }\n",
        "\n",
        "    return 0;\n",
        "}"
      ],
      "metadata": {
        "id": "YfId-D2uoKnv"
      },
      "execution_count": null,
      "outputs": []
    },
    {
      "cell_type": "code",
      "source": [
        "\n",
        "#include <iostream>\n",
        "#include <vector>\n",
        "\n",
        "#include <pmp/SurfaceMesh.h>\n",
        "#include <pmp/algorithms/SurfaceMeshCleanup.h>\n",
        "\n",
        "int main()\n",
        "{\n",
        "    // Create a surface mesh\n",
        "    pmp::SurfaceMesh mesh;\n",
        "\n",
        "    // Add some vertices to the mesh\n",
        "    pmp::Vertex v0 = mesh.add_vertex(pmp::Point(0, 0, 0));\n",
        "    pmp::Vertex v1 = mesh.add_vertex(pmp::Point(1, 0, 0));\n",
        "    pmp::Vertex v2 = mesh.add_vertex(pmp::Point(1, 1, 0));\n",
        "    pmp::Vertex v3 = mesh.add_vertex(pmp::Point(0, 1, 0));\n",
        "    pmp::Vertex v4 = mesh.add_vertex(pmp::Point(0.5, 0.5, 1));\n",
        "\n",
        "    // Add some faces to the mesh\n",
        "    std::vector<pmp::Vertex> face;\n",
        "    face = {v0, v1, v4};\n",
        "    mesh.add_face(face);\n",
        "    face = {v1, v2, v4};\n",
        "    mesh.add_face(face);\n",
        "    face = {v2, v3, v4};\n",
        "    mesh.add_face(face);\n",
        "    face = {v3, v0, v4};\n",
        "    mesh.add_face(face);\n",
        "\n",
        "    // Fill the multiple half-edge holes in the mesh\n",
        "    pmp::cleanup::fill_multiple_halfedge_holes(mesh);\n",
        "\n",
        "    // Print the resulting mesh\n",
        "    std::cout << \"Vertices: \" << std::endl;\n",
        "    for (pmp::Vertex v : mesh.vertices())\n",
        "    {\n",
        "        std::cout << \"Vertex \" << v << \": \" << mesh.point(v) << std::endl;\n",
        "    }\n",
        "    std::cout << \"Faces: \" << std::endl;\n",
        "    for (pmp::Face f : mesh.faces())\n",
        "    {\n",
        "        std::cout << \"Face \" << f << \": \";\n",
        "        for (pmp::Vertex v : mesh.vertices(f))\n",
        "        {\n",
        "            std::cout << v << \" \";\n",
        "        }\n",
        "        std::cout << std::endl;\n",
        "    }\n",
        "\n",
        "    return 0;\n",
        "}"
      ],
      "metadata": {
        "id": "Wj-rtYgLo5HC"
      },
      "execution_count": null,
      "outputs": []
    },
    {
      "cell_type": "code",
      "source": [
        "\n",
        "#include <iostream>\n",
        "#include <vector>\n",
        "\n",
        "#include \"PolyMesh/pmp/algorithms/hole_filling.h\"\n",
        "\n",
        "int main()\n",
        "{\n",
        "    // Load the mesh from a file\n",
        "    PolyMesh mesh;\n",
        "    if (!OpenMesh::IO::read_mesh(mesh, \"input.obj\"))\n",
        "    {\n",
        "        std::cerr << \"Error loading mesh from file!\" << std::endl;\n",
        "        return 1;\n",
        "    }\n",
        "\n",
        "    // Find the half-edge holes in the mesh\n",
        "    std::vector<PolyMesh::HalfedgeHandle> holes;\n",
        "    pmp::hole_filling(mesh, std::back_inserter(holes));\n",
        "\n",
        "    // Print the number of holes found\n",
        "    std::cout << \"Number of holes: \" << holes.size() << std::endl;\n",
        "\n",
        "    // Fill the holes\n",
        "    pmp::fill_holes(mesh, holes.begin(), holes.end());\n",
        "\n",
        "    // Save the resulting mesh to a file\n",
        "    if (!OpenMesh::IO::write_mesh(mesh, \"output.obj\"))\n",
        "    {\n",
        "        std::cerr << \"Error saving mesh to file!\" << std::endl;\n",
        "        return 1;\n",
        "    }\n",
        "\n",
        "    return 0;\n",
        "}"
      ],
      "metadata": {
        "id": "tSBenlcosk9j"
      },
      "execution_count": null,
      "outputs": []
    },
    {
      "cell_type": "code",
      "source": [
        "\n",
        "#include <iostream>\n",
        "#include <vector>\n",
        "\n",
        "#include \"PolyMesh/pmp/algorithms/hole_filling.h\"\n",
        "\n",
        "int main()\n",
        "{\n",
        "    // Load the mesh from a file\n",
        "    PolyMesh mesh;\n",
        "    if (!OpenMesh::IO::read_mesh(mesh, \"input.obj\"))\n",
        "    {\n",
        "        std::cerr << \"Error loading mesh from file!\" << std::endl;\n",
        "        return 1;\n",
        "    }\n",
        "\n",
        "    // Ensure that the mesh is a manifold\n",
        "    pmp::is_manifold(mesh);\n",
        "\n",
        "    // Find the holes in the mesh\n",
        "    std::vector<PolyMesh::FaceHandle> holes;\n",
        "    pmp::hole_filling(mesh, std::back_inserter(holes));\n",
        "\n",
        "    // Print the number of holes found\n",
        "    std::cout << \"Number of holes: \" << holes.size() << std::endl;\n",
        "\n",
        "    // Fill the holes\n",
        "    pmp::fill_holes(mesh, holes.begin(), holes.end());\n",
        "\n",
        "    // Save the resulting mesh to a file\n",
        "    if (!OpenMesh::IO::write_mesh(mesh, \"output.obj\"))\n",
        "    {\n",
        "        std::cerr << \"Error saving mesh to file!\" << std::endl;\n",
        "        return 1;\n",
        "    }\n",
        "\n",
        "    return 0;\n",
        "}"
      ],
      "metadata": {
        "id": "OWQ7h8uotaqw"
      },
      "execution_count": null,
      "outputs": []
    }
  ]
}