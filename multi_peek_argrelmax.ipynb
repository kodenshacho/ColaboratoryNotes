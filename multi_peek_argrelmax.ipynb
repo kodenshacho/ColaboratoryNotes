{
  "nbformat": 4,
  "nbformat_minor": 0,
  "metadata": {
    "colab": {
      "provenance": [],
      "authorship_tag": "ABX9TyPfvsDyZP2q8KemaMIjKUEN",
      "include_colab_link": true
    },
    "kernelspec": {
      "name": "python3",
      "display_name": "Python 3"
    },
    "language_info": {
      "name": "python"
    }
  },
  "cells": [
    {
      "cell_type": "markdown",
      "metadata": {
        "id": "view-in-github",
        "colab_type": "text"
      },
      "source": [
        "<a href=\"https://colab.research.google.com/github/kodenshacho/ColaboratoryNotes/blob/main/multi_peek_argrelmax.ipynb\" target=\"_parent\"><img src=\"https://colab.research.google.com/assets/colab-badge.svg\" alt=\"Open In Colab\"/></a>"
      ]
    },
    {
      "cell_type": "code",
      "execution_count": null,
      "metadata": {
        "id": "qEOSL_s-AoZz"
      },
      "outputs": [],
      "source": [
        "\n",
        "#include <set>\n",
        "#include <unordered_set>\n",
        "#include <iostream>\n",
        "#include <algorithm>\n",
        "\n",
        "int main() {\n",
        "  std::set<int> mySet {1, 2, 3, 4};\n",
        "  std::unordered_set<int> myHashSet;\n",
        "\n",
        "  // Copy elements from set to hash set using std::copy\n",
        "  std::copy(mySet.begin(), mySet.end(), std::inserter(myHashSet, myHashSet.end()));\n",
        "\n",
        "  // Print elements of hash set\n",
        "  for (const auto& x : myHashSet) {\n",
        "    std::cout << x << \" \";\n",
        "  }\n",
        "  std::cout << std::endl;\n",
        "\n",
        "  return 0;\n",
        "}"
      ]
    },
    {
      "cell_type": "code",
      "source": [
        "\n",
        "#include <iostream>\n",
        "#include <chrono>\n",
        "\n",
        "int main()\n",
        "{\n",
        "    const int N = 1000000000;\n",
        "\n",
        "    // Original do-while loop\n",
        "    auto start = std::chrono::high_resolution_clock::now();\n",
        "    int sum = 0;\n",
        "    int i = 0;\n",
        "    do\n",
        "    {\n",
        "        sum += i;\n",
        "        ++i;\n",
        "    } while (i < N);\n",
        "    auto elapsed = std::chrono::high_resolution_clock::now() - start;\n",
        "    std::cout << \"Original loop: \" << elapsed.count() << \" nanoseconds\" << std::endl;\n",
        "\n",
        "    // Optimized loop\n",
        "    start = std::chrono::high_resolution_clock::now();\n",
        "    sum = 0;\n",
        "    i = 0;\n",
        "    for (; i < N; ++i)\n",
        "    {\n",
        "        sum += i;\n",
        "    }\n",
        "    elapsed = std::chrono::high_resolution_clock::now() - start;\n",
        "    std::cout << \"Optimized loop: \" << elapsed.count() << \" nanoseconds\" << std::endl;\n",
        "\n",
        "    return 0;\n",
        "}"
      ],
      "metadata": {
        "id": "1USyyIkmEM_N"
      },
      "execution_count": null,
      "outputs": []
    },
    {
      "cell_type": "code",
      "source": [
        "\n",
        "import numpy as np\n",
        "import matplotlib.pyplot as plt\n",
        "from scipy.signal import argrelmax\n",
        "from scipy.stats import norm\n",
        "from sklearn.mixture import GaussianMixture"
      ],
      "metadata": {
        "id": "KsjwwLcMFSnK"
      },
      "execution_count": null,
      "outputs": []
    },
    {
      "cell_type": "code",
      "source": [
        "\n",
        "# 仮のXRDスペクトルを生成するためのパラメータ\n",
        "amplitude1 = 10\n",
        "mean1 = 30\n",
        "sigma1 = 2\n",
        "amplitude2 = 15\n",
        "mean2 = 50\n",
        "sigma2 = 3\n",
        "amplitude3 = 5\n",
        "mean3 = 70\n",
        "sigma3 = 1\n",
        "\n",
        "# 仮のXRDスペクトルを生成\n",
        "x = np.linspace(0, 100, 1000)\n",
        "y = amplitude1 * norm.pdf(x, mean1, sigma1) + amplitude2 * norm.pdf(x, mean2, sigma2) + amplitude3 * norm.pdf(x, mean3, sigma3)"
      ],
      "metadata": {
        "id": "xr1-5QW7KNE8"
      },
      "execution_count": null,
      "outputs": []
    },
    {
      "cell_type": "code",
      "source": [
        "\n",
        "# XRDスペクトルからピークを検出\n",
        "peaks = argrelmax(y, order=3)\n",
        "\n",
        "peaks_x = x[peaks]\n",
        "peaks_y = y[peaks]\n",
        "\n",
        "# XRDスペクトルのピークをフィッティングするためのGMMモデルを作成\n",
        "model = GaussianMixture(n_components=len(peaks))\n",
        "\n",
        "# モデルをフィッティング\n",
        "model.fit(peaks_x.reshape(-1, 1))"
      ],
      "metadata": {
        "id": "8l3Cvxk7KS5L",
        "outputId": "dd8e6d0d-f818-44b1-949c-97afafaac97f",
        "colab": {
          "base_uri": "https://localhost:8080/"
        }
      },
      "execution_count": null,
      "outputs": [
        {
          "output_type": "execute_result",
          "data": {
            "text/plain": [
              "GaussianMixture()"
            ]
          },
          "metadata": {},
          "execution_count": 25
        }
      ]
    },
    {
      "cell_type": "code",
      "source": [
        "\n",
        "# Plot the XRD spectrum with the fitted peaks\n",
        "plt.plot(x, y, label=\"XRD spectrum\")\n",
        "for mean, cov in zip(gmm.means_.flatten(), gmm.covariances_.flatten()):\n",
        "    y_peak = np.exp(-0.5 * ((x - mean) / np.sqrt(cov))**2)\n",
        "    plt.plot(x, y_peak, linestyle=\"dashed\", label=f\"Peak at {mean:.2f}\")\n",
        "plt.legend()\n",
        "plt.show()"
      ],
      "metadata": {
        "id": "9PqPTvcmNe35"
      },
      "execution_count": null,
      "outputs": []
    },
    {
      "cell_type": "code",
      "source": [
        "\n",
        "import numpy as np\n",
        "from sklearn.mixture import GaussianMixture\n",
        "import matplotlib.pyplot as plt"
      ],
      "metadata": {
        "id": "B43tkOj-Mlm5"
      },
      "execution_count": null,
      "outputs": []
    },
    {
      "cell_type": "code",
      "source": [
        "\n",
        "# Generate a synthetic XRD spectrum with 3 peaks\n",
        "np.random.seed(42)\n",
        "x = np.linspace(0, 10, 1000)\n",
        "y = np.exp(-0.5 * ((x - 3) / 1)**2) + np.exp(-0.5 * ((x - 6) / 2)**2) + np.exp(-0.5 * ((x - 9) / 0.5)**2)\n",
        "y += np.random.normal(0, 0.1, y.shape)"
      ],
      "metadata": {
        "id": "rtK9oHzlMooE"
      },
      "execution_count": null,
      "outputs": []
    },
    {
      "cell_type": "code",
      "source": [
        "\n",
        "# Fit the XRD spectrum with a Gaussian mixture model with 3 components\n",
        "gmm = GaussianMixture(n_components=3)\n",
        "gmm.fit(x.reshape(-1, 1), y)"
      ],
      "metadata": {
        "colab": {
          "base_uri": "https://localhost:8080/"
        },
        "id": "j84_7c59MtL-",
        "outputId": "18d966e2-9d71-4cb4-b51c-339f43e779dc"
      },
      "execution_count": null,
      "outputs": [
        {
          "output_type": "execute_result",
          "data": {
            "text/plain": [
              "GaussianMixture(n_components=3)"
            ]
          },
          "metadata": {},
          "execution_count": 28
        }
      ]
    },
    {
      "cell_type": "code",
      "source": [
        "\n",
        "# Plot the XRD spectrum with the fitted peaks\n",
        "plt.plot(x, y, label=\"XRD spectrum\")\n",
        "for mean, cov in zip(gmm.means_.flatten(), gmm.covariances_.flatten()):\n",
        "    y_peak = np.exp(-0.5 * ((x - mean) / np.sqrt(cov))**2)\n",
        "    plt.plot(x, y_peak, linestyle=\"dashed\", label=f\"Peak at {mean:.2f}\")\n",
        "plt.legend()\n",
        "plt.show()"
      ],
      "metadata": {
        "colab": {
          "base_uri": "https://localhost:8080/",
          "height": 229
        },
        "id": "sP6aiIwuMwL7",
        "outputId": "367d2273-e333-4517-a64a-48285cbe095a"
      },
      "execution_count": null,
      "outputs": [
        {
          "output_type": "display_data",
          "data": {
            "text/plain": [
              "<Figure size 432x288 with 1 Axes>"
            ],
            "image/png": "[encoded data removed]"
          },
          "metadata": {
            "needs_background": "light"
          }
        }
      ]
    },
    {
      "cell_type": "code",
      "source": [
        "\n",
        "from scipy.signal import argrelmax\n",
        "\n",
        "# Find the relative maxima of the XRD spectrum\n",
        "# Find the relative maxima of the XRD spectrum\n",
        "maxima_indices = argrelmax(y)[0]\n",
        "maxima = x[maxima_indices]\n",
        "\n",
        "# Plot the XRD spectrum with the detected peaks\n",
        "plt.plot(x, y, label=\"XRD spectrum\")\n",
        "for peak in maxima:\n",
        "    plt.plot(x, np.maximum(y, 0) * (x == peak), linestyle=\"dashed\", label=f\"Peak at {peak:.2f}\")\n",
        "plt.legend()\n",
        "plt.show()"
      ],
      "metadata": {
        "id": "WvrWRQWYM1Ze"
      },
      "execution_count": null,
      "outputs": []
    },
    {
      "cell_type": "code",
      "source": [
        "\n",
        "# Fit the XRD spectrum with a Gaussian mixture model\n",
        "gmm = GaussianMixture(n_components=len(maxima))\n",
        "gmm.fit(x.reshape(-1, 1), y)\n",
        "\n",
        "# Plot the XRD spectrum with the fitted peaks\n",
        "plt.plot(x, y, label=\"XRD spectrum\")\n",
        "for mean, cov in zip(gmm.means_.flatten(), gmm.covariances_.flatten()):\n",
        "    y_peak = np.exp(-0.5 * ((x - mean) / np.sqrt(cov))**2)\n",
        "    plt.plot(x, y_peak, linestyle=\"dashed\", label=f\"Peak at {mean:.2f}\")\n",
        "plt.legend()\n",
        "plt.show()"
      ],
      "metadata": {
        "id": "yuPnsrPEM5ul"
      },
      "execution_count": null,
      "outputs": []
    },
    {
      "cell_type": "code",
      "source": [
        "\n",
        "import numpy as np\n",
        "\n",
        "def load_data():\n",
        "    # Generate fake energy data\n",
        "    energies = np.linspace(0, 10, 1000)\n",
        "    \n",
        "    # Generate fake intensity data using a combination of Gaussian functions\n",
        "    intensities = 0.5 * np.exp(-0.5 * ((energies - 2) / 0.5) ** 2)\n",
        "    intensities += 0.25 * np.exp(-0.5 * ((energies - 5) / 0.75) ** 2)\n",
        "    intensities += 0.25 * np.exp(-0.5 * ((energies - 8) / 1.0) ** 2)\n",
        "    \n",
        "    return energies, intensities"
      ],
      "metadata": {
        "id": "WOB8i2Jt0Llm"
      },
      "execution_count": 10,
      "outputs": []
    }
  ]
}