{
  "nbformat": 4,
  "nbformat_minor": 0,
  "metadata": {
    "colab": {
      "provenance": [],
      "authorship_tag": "ABX9TyMOflM8WiSqJcS1woUipkci",
      "include_colab_link": true
    },
    "kernelspec": {
      "name": "python3",
      "display_name": "Python 3"
    },
    "language_info": {
      "name": "python"
    }
  },
  "cells": [
    {
      "cell_type": "markdown",
      "metadata": {
        "id": "view-in-github",
        "colab_type": "text"
      },
      "source": [
        "<a href=\"https://colab.research.google.com/github/kodenshacho/ColaboratoryNotes/blob/main/reference_ml_links.ipynb\" target=\"_parent\"><img src=\"https://colab.research.google.com/assets/colab-badge.svg\" alt=\"Open In Colab\"/></a>"
      ]
    },
    {
      "cell_type": "markdown",
      "source": [
        "https://techblog-history-younghunjo1.tistory.com/108\n",
        "\n",
        "[ML] K-means 와 GMM(Gaussian Mixture Model) 구현하기"
      ],
      "metadata": {
        "id": "MyK9w9PUtI94"
      }
    },
    {
      "cell_type": "markdown",
      "source": [
        "수식없이 이해하는 Gaussian Mixture Model\n",
        "\n",
        "https://3months.tistory.com/154"
      ],
      "metadata": {
        "id": "TDoLCEZftTBW"
      }
    },
    {
      "cell_type": "markdown",
      "source": [
        "https://www.google.com/url?sa=t&source=web&rct=j&url=https://www.koreascience.or.kr/article/JAKO202213159015595.pdf&ved=2ahUKEwiUtpLLzvz7AhXmpVYBHWyNCIEQFnoECB4QAQ&usg=AOvVaw2Ko-Ntg65-IsVIoFx_XUsc"
      ],
      "metadata": {
        "id": "F2lDE1btthFK"
      }
    }
  ]
}