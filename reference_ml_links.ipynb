{
  "nbformat": 4,
  "nbformat_minor": 0,
  "metadata": {
    "colab": {
      "provenance": [],
      "authorship_tag": "ABX9TyMsnNfKj64A7Hv7KVWnAHLc",
      "include_colab_link": true
    },
    "kernelspec": {
      "name": "python3",
      "display_name": "Python 3"
    },
    "language_info": {
      "name": "python"
    }
  },
  "cells": [
    {
      "cell_type": "markdown",
      "metadata": {
        "id": "view-in-github",
        "colab_type": "text"
      },
      "source": [
        "<a href=\"https://colab.research.google.com/github/kodenshacho/ColaboratoryNotes/blob/main/reference_ml_links.ipynb\" target=\"_parent\"><img src=\"https://colab.research.google.com/assets/colab-badge.svg\" alt=\"Open In Colab\"/></a>"
      ]
    },
    {
      "cell_type": "markdown",
      "source": [
        "https://techblog-history-younghunjo1.tistory.com/108\n",
        "\n",
        "[ML] K-means 와 GMM(Gaussian Mixture Model) 구현하기"
      ],
      "metadata": {
        "id": "MyK9w9PUtI94"
      }
    },
    {
      "cell_type": "markdown",
      "source": [
        "수식없이 이해하는 Gaussian Mixture Model\n",
        "\n",
        "https://3months.tistory.com/154"
      ],
      "metadata": {
        "id": "TDoLCEZftTBW"
      }
    },
    {
      "cell_type": "markdown",
      "source": [
        "https://www.google.com/url?sa=t&source=web&rct=j&url=https://www.koreascience.or.kr/article/JAKO202213159015595.pdf&ved=2ahUKEwiUtpLLzvz7AhXmpVYBHWyNCIEQFnoECB4QAQ&usg=AOvVaw2Ko-Ntg65-IsVIoFx_XUsc"
      ],
      "metadata": {
        "id": "F2lDE1btthFK"
      }
    },
    {
      "cell_type": "code",
      "source": [
        "\n",
        "import numpy as np\n",
        "import matplotlib.pyplot as plt\n",
        "from scipy.optimize import curve_fit\n",
        "\n",
        "def gauss(x, *params):\n",
        "    \"\"\"\n",
        "    Gaussian function for curve fitting.\n",
        "    \n",
        "    Parameters\n",
        "    ----------\n",
        "    x : numpy array\n",
        "        Independent variable\n",
        "    *params : tuple\n",
        "        Tuple of parameters for the Gaussian function: (amplitude, mean, standard deviation)\n",
        "        \n",
        "    Returns\n",
        "    -------\n",
        "    numpy array\n",
        "        Gaussian function evaluated at x\n",
        "    \"\"\"\n",
        "    y = np.zeros_like(x)\n",
        "    for i in range(0, len(params), 3):\n",
        "        amp, mean, std = params[i:i+3]\n",
        "        y += amp * np.exp(-((x - mean) / std)**2)\n",
        "    return y\n",
        "\n",
        "\n",
        "# Generate fake data with multiple peaks\n",
        "x = np.linspace(0, 10, 1000)\n",
        "y = 3 * np.sin(2 * x) + 5 * np.cos(3 * x) + 2 * np.sin(5 * x)\n",
        "\n",
        "# Add some noise to the data\n",
        "y += np.random.normal(0, 1, len(y))\n",
        "\n",
        "\n",
        "# Fit the peaks\n",
        "params, _ = curve_fit(gauss, x, y, p0=[1, 5, 1, 1, 5, 1, 1, 7, 1])\n",
        "\n",
        "\n",
        "# Plot the data and the fitted peaks\n",
        "plt.plot(x, y, 'bo', label='Data')\n",
        "plt.plot(x, gauss(x, *params), 'r', label='Fit')\n",
        "plt.xlabel('x')\n",
        "plt.ylabel('y')\n",
        "plt.legend()\n",
        "plt.show()\n",
        "\n",
        "print(params)"
      ],
      "metadata": {
        "colab": {
          "base_uri": "https://localhost:8080/",
          "height": 290
        },
        "id": "NFZtDyPFYztn",
        "outputId": "7d713fbb-e73d-4162-d84a-b088ad5b8e14"
      },
      "execution_count": null,
      "outputs": [
        {
          "output_type": "display_data",
          "data": {
            "text/plain": [
              "<Figure size 432x288 with 1 Axes>"
            ],
            "image/png": "[encoded data removed]"
          },
          "metadata": {
            "needs_background": "light"
          }
        },
        {
          "output_type": "stream",
          "name": "stdout",
          "text": [
            "[-5.32895834  9.4262473   0.36292257 -6.79477799  5.29788947  0.48365332\n",
            "  7.43755862  6.50429653  0.3210541 ]\n"
          ]
        }
      ]
    },
    {
      "cell_type": "code",
      "source": [
        "\n",
        "import numpy as np\n",
        "\n",
        "def generate_xrd_data(num_peaks=3, peak_intensities=[100, 50, 25], peak_wavelengths=[1.5, 2.0, 2.5],\n",
        "                      width=0.1, noise_level=0.1):\n",
        "    \"\"\"\n",
        "    Generates synthetic XRD data with multiple peaks.\n",
        "    \n",
        "    Parameters:\n",
        "    - num_peaks: number of peaks to generate (default: 3)\n",
        "    - peak_intensities: list of peak intensities (default: [100, 50, 25])\n",
        "    - peak_wavelengths: list of peak wavelengths (default: [1.5, 2.0, 2.5])\n",
        "    - width: width of the peaks (default: 0.1)\n",
        "    - noise_level: level of noise to add to the data (default: 0.1)\n",
        "    \n",
        "    Returns:\n",
        "    - wavelengths: array of wavelengths\n",
        "    - intensities: array of intensities\n",
        "    \"\"\"\n",
        "    # Generate a grid of wavelengths\n",
        "    min_wavelength = min(peak_wavelengths) - width\n",
        "    max_wavelength = max(peak_wavelengths) + width\n",
        "    wavelengths = np.linspace(min_wavelength, max_wavelength, 100)\n",
        "    \n",
        "    # Generate a synthetic XRD spectrum with multiple peaks\n",
        "    intensities = np.zeros_like(wavelengths)\n",
        "    for i in range(num_peaks):\n",
        "        intensities += peak_intensities[i] / (1 + ((wavelengths - peak_wavelengths[i]) / width)**2)\n",
        "    \n",
        "    # Add noise to the data\n",
        "    intensities += noise_level * np.random.randn(len(wavelengths))\n",
        "    \n",
        "    return wavelengths, intensities"
      ],
      "metadata": {
        "id": "KuVfuc84c34d"
      },
      "execution_count": null,
      "outputs": []
    },
    {
      "cell_type": "code",
      "source": [
        "\n",
        "import numpy as np\n",
        "\n",
        "# Generate XRD data with 3 peaks\n",
        "wavelengths, intensities = generate_xrd_data()\n",
        "\n",
        "# Generate XRD data with 5 peaks, custom peak intensities and wavelengths, and a wider peak width\n",
        "wavelengths, intensities = generate_xrd_data(num_peaks=5, peak_intensities=[200, 150, 100, 50, 25], \n",
        "                                             peak_wavelengths=[1.2, 1.7, 2.2, 2.7, 3.2], width=0.2)\n",
        "\n",
        "# Generate XRD data with 2 peaks and a higher level of noise\n",
        "wavelengths, intensities = generate_xrd_data(num_peaks=2, peak_intensities=[100, 50], \n",
        "                                             peak_wavelengths=[1.5, 2.0], noise_level=0.5)"
      ],
      "metadata": {
        "id": "qHbsUgY0dOuL"
      },
      "execution_count": null,
      "outputs": []
    },
    {
      "cell_type": "code",
      "source": [
        "\n",
        "import numpy as np\n",
        "\n",
        "# Define the number of peaks\n",
        "num_peaks = 3\n",
        "\n",
        "# Generate XRD data with the specified number of peaks\n",
        "wavelengths, intensities = generate_xrd_data(num_peaks=num_peaks)\n",
        "\n",
        "# Fit a Lorentzian curve to each peak\n",
        "parameters = []\n",
        "for i in range(num_peaks):\n",
        "    init_vals = [peak_intensities[i], peak_wavelengths[i], 0.1]\n",
        "    params, _ = curve_fit(lorentzian, wavelengths, intensities, p0=init_vals)\n",
        "    parameters.append(params)"
      ],
      "metadata": {
        "id": "ngmTMRXNd1cT"
      },
      "execution_count": null,
      "outputs": []
    },
    {
      "cell_type": "code",
      "source": [
        "\n",
        "import numpy as np\n",
        "\n",
        "# Define the peak intensities and wavelengths\n",
        "peak_intensities = [100, 50, 25]\n",
        "peak_wavelengths = [1.5, 2.0, 2.5]\n",
        "\n",
        "# Generate XRD data with the specified peak intensities and wavelengths\n",
        "wavelengths, intensities = generate_xrd_data(num_peaks=len(peak_intensities), peak_intensities=peak_intensities, \n",
        "                                             peak_wavelengths=peak_wavelengths)\n",
        "\n",
        "# Fit a Lorentzian curve to each peak\n",
        "parameters = []\n",
        "for i in range(len(peak_intensities)):\n",
        "    init_vals = [peak_intensities[i], peak_wavelengths[i], 0.1]\n",
        "    params, _ = curve_fit(lorentzian, wavelengths, intensities, p0=init_vals)\n",
        "    parameters.append(params)"
      ],
      "metadata": {
        "id": "FqQVX_S1eyup"
      },
      "execution_count": null,
      "outputs": []
    },
    {
      "cell_type": "code",
      "source": [
        "\n",
        "import numpy as np\n",
        "\n",
        "def lorentzian(wavelength, intensity, center, width):\n",
        "    \"\"\"\n",
        "    Returns the value of a Lorentzian curve at a given wavelength.\n",
        "    \n",
        "    Parameters:\n",
        "    - wavelength: wavelength at which to evaluate the curve\n",
        "    - intensity: intensity of the peak\n",
        "    - center: center wavelength of the peak\n",
        "    - width: width of the peak\n",
        "    \n",
        "    Returns:\n",
        "    - value: value of the Lorentzian curve at the given wavelength\n",
        "    \"\"\"\n",
        "    value = intensity / (1 + ((wavelength - center) / width)**2)\n",
        "    return value"
      ],
      "metadata": {
        "id": "Y2qEyjFTgSJu"
      },
      "execution_count": null,
      "outputs": []
    },
    {
      "cell_type": "code",
      "source": [
        "\n",
        "import numpy as np\n",
        "from sklearn.ensemble import RandomForestClassifier\n",
        "from scipy.optimize import curve_fit\n",
        "\n",
        "# Define the elements corresponding to the peaks\n",
        "elements = ['Cu', 'Zn', 'Fe']\n",
        "peak_intensities = [100, 50, 25]\n",
        "peak_wavelengths = [1.5, 2.0, 2.5]\n",
        "# Generate XRD data with multiple peaks\n",
        "wavelengths, intensities = generate_xrd_data(num_peaks=len(elements), peak_intensities=peak_intensities,\n",
        "                                             peak_wavelengths=peak_wavelengths)\n",
        "\n",
        "# Fit a Lorentzian curve to each peak\n",
        "parameters = []\n",
        "for i in range(num_peaks):\n",
        "    init_vals = [peak_intensities[i], peak_wavelengths[i], 0.1]\n",
        "    params, _ = curve_fit(lorentzian, wavelengths, intensities, p0=init_vals, maxfev=5000   )\n",
        "    parameters.append(params)\n",
        "\n",
        "# Use machine learning to identify the element corresponding to each peak\n",
        "X = np.array(parameters)\n",
        "y = np.array(elements)\n",
        "\n",
        "# Initialize and train the machine learning model\n",
        "model = RandomForestClassifier()\n",
        "model.fit(X, y)\n",
        "\n",
        "# Define a new peak for which to predict the element\n",
        "peak_intensity = 75\n",
        "peak_wavelength = 1.8\n",
        "new_peak = [peak_intensity, peak_wavelength, 0.1]\n",
        "\n",
        "# Predict the element corresponding to the new peak\n",
        "prediction = model.predict([new_peak])\n",
        "print(f\"The element corresponding to the peak is: {prediction[0]}\")"
      ],
      "metadata": {
        "colab": {
          "base_uri": "https://localhost:8080/"
        },
        "id": "L3EQOV5RcIwW",
        "outputId": "ff03a89a-31c6-44a4-df20-802f948b36a8"
      },
      "execution_count": null,
      "outputs": [
        {
          "output_type": "stream",
          "name": "stdout",
          "text": [
            "The element corresponding to the peak is: Fe\n"
          ]
        }
      ]
    }
  ]
}